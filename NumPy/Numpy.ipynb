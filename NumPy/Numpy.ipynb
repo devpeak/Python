{
 "cells": [
  {
   "cell_type": "markdown",
   "id": "ac0a032f",
   "metadata": {},
   "source": [
    "# NumPy Arrays\n",
    "\n",
    "\n",
    "### python objects:\n",
    "\n",
    "    1. High-level number objects: integers, floating point\n",
    "    2. containers: lists(costless insertion and append), dictionaries\n",
    "    (fast lookup)"
   ]
  },
  {
   "cell_type": "markdown",
   "id": "6d0e3c77",
   "metadata": {},
   "source": [
    "# NumPy provides\n",
    "\n",
    "1.extension package to python for multi-dimensional arrays\n",
    "\n",
    "2.closer to hardware(efficiency)\n",
    "\n",
    "3.designed for scientific computation.\n",
    "\n",
    "4.also known as array oriented computing"
   ]
  },
  {
   "cell_type": "code",
   "execution_count": 2,
   "id": "417bd40e",
   "metadata": {},
   "outputs": [
    {
     "name": "stdout",
     "output_type": "stream",
     "text": [
      "[0 2 4 6 8]\n",
      "[ 0  4 16 36 64]\n",
      "<class 'numpy.ndarray'>\n",
      "[ 0  1  2  3  4  5  6  7  8  9 10]\n"
     ]
    }
   ],
   "source": [
    "import numpy as np\n",
    "a = np.array([0,2,4,6,8])\n",
    "print(a)\n",
    "\n",
    "print(a**2)\n",
    "\n",
    "print(type(a))\n",
    "\n",
    "print(np.arange(11))\n",
    "\n"
   ]
  },
  {
   "cell_type": "markdown",
   "id": "c2f308ad",
   "metadata": {},
   "source": [
    "\n",
    "### why is it useful : \n",
    "\n",
    "Memory-efficient container that provides fast numerical operations"
   ]
  },
  {
   "cell_type": "code",
   "execution_count": 5,
   "id": "30440ed8",
   "metadata": {},
   "outputs": [
    {
     "name": "stdout",
     "output_type": "stream",
     "text": [
      "259 µs ± 7.43 µs per loop (mean ± std. dev. of 7 runs, 1000 loops each)\n"
     ]
    }
   ],
   "source": [
    "#python list\n",
    "lst = range(1000)\n",
    "%timeit [i**2 for i in lst]"
   ]
  },
  {
   "cell_type": "code",
   "execution_count": 6,
   "id": "d29063a5",
   "metadata": {},
   "outputs": [
    {
     "name": "stdout",
     "output_type": "stream",
     "text": [
      "1.25 µs ± 20.5 ns per loop (mean ± std. dev. of 7 runs, 1000000 loops each)\n"
     ]
    }
   ],
   "source": [
    "a = np.arange(1000) #numPy array\n",
    "%timeit [a**2"
   ]
  },
  {
   "cell_type": "markdown",
   "id": "84abc328",
   "metadata": {},
   "source": [
    "# CREATING ARRAYS\n",
    "\n",
    "1.1 Manual construction of arays\n",
    "\n",
    "1D Array -> vector\n",
    "\n",
    "2D Array -> Matrix\n",
    "\n",
    "nD Array -> Tensor"
   ]
  },
  {
   "cell_type": "code",
   "execution_count": 14,
   "id": "f2a42722",
   "metadata": {},
   "outputs": [
    {
     "data": {
      "text/plain": [
       "array([0, 1, 2, 3, 4])"
      ]
     },
     "execution_count": 14,
     "metadata": {},
     "output_type": "execute_result"
    }
   ],
   "source": [
    "#1-D\n",
    "\n",
    "a = np.array([0,1,2,3,4])\n",
    "\n",
    "a"
   ]
  },
  {
   "cell_type": "code",
   "execution_count": 15,
   "id": "fde66c81",
   "metadata": {},
   "outputs": [
    {
     "data": {
      "text/plain": [
       "1"
      ]
     },
     "execution_count": 15,
     "metadata": {},
     "output_type": "execute_result"
    }
   ],
   "source": [
    "#print dimension\n",
    "\n",
    "a.ndim"
   ]
  },
  {
   "cell_type": "code",
   "execution_count": 16,
   "id": "5224ca69",
   "metadata": {},
   "outputs": [
    {
     "data": {
      "text/plain": [
       "(5,)"
      ]
     },
     "execution_count": 16,
     "metadata": {},
     "output_type": "execute_result"
    }
   ],
   "source": [
    "#shape\n",
    "\n",
    "a.shape"
   ]
  },
  {
   "cell_type": "code",
   "execution_count": 18,
   "id": "1b99fab1",
   "metadata": {},
   "outputs": [
    {
     "data": {
      "text/plain": [
       "array([[0, 2, 4],\n",
       "       [1, 3, 5]])"
      ]
     },
     "execution_count": 18,
     "metadata": {},
     "output_type": "execute_result"
    }
   ],
   "source": [
    "#2D-3D ..\n",
    "\n",
    "b = np.array([[0,2,4,], [1,3,5]])\n",
    "\n",
    "b"
   ]
  },
  {
   "cell_type": "code",
   "execution_count": 19,
   "id": "82e8a637",
   "metadata": {},
   "outputs": [
    {
     "data": {
      "text/plain": [
       "2"
      ]
     },
     "execution_count": 19,
     "metadata": {},
     "output_type": "execute_result"
    }
   ],
   "source": [
    "b.ndim"
   ]
  },
  {
   "cell_type": "code",
   "execution_count": 21,
   "id": "a7ee0fe1",
   "metadata": {},
   "outputs": [
    {
     "data": {
      "text/plain": [
       "(2, 3)"
      ]
     },
     "execution_count": 21,
     "metadata": {},
     "output_type": "execute_result"
    }
   ],
   "source": [
    "b.shape  #rows, column"
   ]
  },
  {
   "cell_type": "code",
   "execution_count": 22,
   "id": "004efc41",
   "metadata": {},
   "outputs": [
    {
     "data": {
      "text/plain": [
       "2"
      ]
     },
     "execution_count": 22,
     "metadata": {},
     "output_type": "execute_result"
    }
   ],
   "source": [
    "len(b)  #returns the size of the first dimension (rows)"
   ]
  },
  {
   "cell_type": "code",
   "execution_count": 27,
   "id": "7e851a4a",
   "metadata": {},
   "outputs": [
    {
     "data": {
      "text/plain": [
       "array([[ 2,  4,  6],\n",
       "       [ 1,  3,  5],\n",
       "       [ 8, 10, 12]])"
      ]
     },
     "execution_count": 27,
     "metadata": {},
     "output_type": "execute_result"
    }
   ],
   "source": [
    "c = np.array([[2,4,6],[1,3,5],[8,10,12]]) #2D\n",
    "\n",
    "c"
   ]
  },
  {
   "cell_type": "code",
   "execution_count": 26,
   "id": "4a51fc0b",
   "metadata": {},
   "outputs": [
    {
     "data": {
      "text/plain": [
       "2"
      ]
     },
     "execution_count": 26,
     "metadata": {},
     "output_type": "execute_result"
    }
   ],
   "source": [
    "c.ndim"
   ]
  },
  {
   "cell_type": "code",
   "execution_count": 31,
   "id": "0f1a00a4",
   "metadata": {},
   "outputs": [
    {
     "data": {
      "text/plain": [
       "array([[[0, 1],\n",
       "        [2, 3]],\n",
       "\n",
       "       [[4, 5],\n",
       "        [6, 7]]])"
      ]
     },
     "execution_count": 31,
     "metadata": {},
     "output_type": "execute_result"
    }
   ],
   "source": [
    "d = np.array([[[0,1],[2,3]], [[4,5] ,[6,7]]])\n",
    "d"
   ]
  },
  {
   "cell_type": "code",
   "execution_count": 35,
   "id": "924e1e7f",
   "metadata": {},
   "outputs": [
    {
     "data": {
      "text/plain": [
       "3"
      ]
     },
     "execution_count": 35,
     "metadata": {},
     "output_type": "execute_result"
    }
   ],
   "source": [
    "d.ndim"
   ]
  },
  {
   "cell_type": "code",
   "execution_count": 34,
   "id": "17bcb83c",
   "metadata": {},
   "outputs": [
    {
     "data": {
      "text/plain": [
       "(2, 2, 2)"
      ]
     },
     "execution_count": 34,
     "metadata": {},
     "output_type": "execute_result"
    }
   ],
   "source": [
    "d.shape"
   ]
  },
  {
   "cell_type": "markdown",
   "id": "95415c3b",
   "metadata": {},
   "source": [
    "# 1.2 Function for creating arrays"
   ]
  },
  {
   "cell_type": "code",
   "execution_count": 13,
   "id": "4c253512",
   "metadata": {},
   "outputs": [
    {
     "data": {
      "text/plain": [
       "array([0., 1., 2., 3., 4., 5., 6., 7., 8., 9.])"
      ]
     },
     "execution_count": 13,
     "metadata": {},
     "output_type": "execute_result"
    }
   ],
   "source": [
    "#using arange function\n",
    "\n",
    "#arange is an array-valued version of the built-in Python range function\n",
    "\n",
    "a = np.arange(10) #0 ... n-1\n",
    "\n",
    "a\n",
    "\n",
    "b = np.arange(10.)\n",
    "\n",
    "b"
   ]
  },
  {
   "cell_type": "code",
   "execution_count": 45,
   "id": "c0cc954e",
   "metadata": {},
   "outputs": [
    {
     "data": {
      "text/plain": [
       "array([1, 3, 5, 7, 9])"
      ]
     },
     "execution_count": 45,
     "metadata": {},
     "output_type": "execute_result"
    }
   ],
   "source": [
    "b = np.arange(1, 10, 2) #start , end(exclusive), step\n",
    "b"
   ]
  },
  {
   "cell_type": "code",
   "execution_count": 47,
   "id": "5a21468f",
   "metadata": {},
   "outputs": [
    {
     "data": {
      "text/plain": [
       "array([0. , 0.2, 0.4, 0.6, 0.8, 1. ])"
      ]
     },
     "execution_count": 47,
     "metadata": {},
     "output_type": "execute_result"
    }
   ],
   "source": [
    "#using linspace\n",
    "a = np.linspace(0, 1, 6) #start , #end , #number of points\n",
    "\n",
    "a"
   ]
  },
  {
   "cell_type": "code",
   "execution_count": 48,
   "id": "39f6c455",
   "metadata": {},
   "outputs": [
    {
     "data": {
      "text/plain": [
       "array([[1., 1., 1.],\n",
       "       [1., 1., 1.],\n",
       "       [1., 1., 1.]])"
      ]
     },
     "execution_count": 48,
     "metadata": {},
     "output_type": "execute_result"
    }
   ],
   "source": [
    "#common arrays\n",
    "\n",
    "a = np.ones((3,3)) \n",
    "\n",
    "a # 3*3 matrix of 1"
   ]
  },
  {
   "cell_type": "code",
   "execution_count": 50,
   "id": "162d4c47",
   "metadata": {},
   "outputs": [
    {
     "data": {
      "text/plain": [
       "array([[0., 0.],\n",
       "       [0., 0.],\n",
       "       [0., 0.]])"
      ]
     },
     "execution_count": 50,
     "metadata": {},
     "output_type": "execute_result"
    }
   ],
   "source": [
    "b = np.zeros((3,2))\n",
    "\n",
    "b"
   ]
  },
  {
   "cell_type": "code",
   "execution_count": 52,
   "id": "6571303e",
   "metadata": {},
   "outputs": [
    {
     "data": {
      "text/plain": [
       "array([[1., 0., 0.],\n",
       "       [0., 1., 0.],\n",
       "       [0., 0., 1.]])"
      ]
     },
     "execution_count": 52,
     "metadata": {},
     "output_type": "execute_result"
    }
   ],
   "source": [
    "c = np.eye(3) #return 2-d array with ones on the diagonal and zeroes elsewhere\n",
    "\n",
    "c"
   ]
  },
  {
   "cell_type": "code",
   "execution_count": 53,
   "id": "c1428c7d",
   "metadata": {},
   "outputs": [
    {
     "data": {
      "text/plain": [
       "array([[1., 0.],\n",
       "       [0., 1.],\n",
       "       [0., 0.]])"
      ]
     },
     "execution_count": 53,
     "metadata": {},
     "output_type": "execute_result"
    }
   ],
   "source": [
    "d = np.eye(3,2) # no of rows = 3 and no of columns = 2\n",
    "d"
   ]
  },
  {
   "cell_type": "code",
   "execution_count": 3,
   "id": "61baccbe",
   "metadata": {},
   "outputs": [
    {
     "data": {
      "text/plain": [
       "array([[1, 0, 0, 0],\n",
       "       [0, 2, 0, 0],\n",
       "       [0, 0, 3, 0],\n",
       "       [0, 0, 0, 4]])"
      ]
     },
     "execution_count": 3,
     "metadata": {},
     "output_type": "execute_result"
    }
   ],
   "source": [
    "#create array using diag function\n",
    "\n",
    "a = np.diag([1,2,3,4]) #construct a diagonal array\n",
    "\n",
    "a"
   ]
  },
  {
   "cell_type": "code",
   "execution_count": 4,
   "id": "b4bb302a",
   "metadata": {},
   "outputs": [
    {
     "data": {
      "text/plain": [
       "array([1, 2, 3, 4])"
      ]
     },
     "execution_count": 4,
     "metadata": {},
     "output_type": "execute_result"
    }
   ],
   "source": [
    "np.diag(a) #extract diagonal"
   ]
  },
  {
   "cell_type": "code",
   "execution_count": 6,
   "id": "ec196afc",
   "metadata": {},
   "outputs": [
    {
     "data": {
      "text/plain": [
       "array([0.20342705, 0.90563714, 0.05322868, 0.34120071])"
      ]
     },
     "execution_count": 6,
     "metadata": {},
     "output_type": "execute_result"
    }
   ],
   "source": [
    "#create array using random\n",
    "\n",
    "#create an array of the given shape and populate it with random sample from uniform distributed random number\n",
    "\n",
    "a = np.random.rand(4) #np is package , #random - subpackage , rand - function  [returns an array of 4 elements]\n",
    "\n",
    "a "
   ]
  },
  {
   "cell_type": "raw",
   "id": "01fe0dc7",
   "metadata": {},
   "source": []
  },
  {
   "cell_type": "code",
   "execution_count": 9,
   "id": "34cb4ff7",
   "metadata": {},
   "outputs": [
    {
     "data": {
      "text/plain": [
       "array([ 0.20094472,  0.09903906, -0.63068225,  0.42073043])"
      ]
     },
     "execution_count": 9,
     "metadata": {},
     "output_type": "execute_result"
    }
   ],
   "source": [
    "a = np.random.randn(4) #[randn-random normal]return a sample (or samples) from the \"standard normal deviant\"\n",
    " \n",
    "a"
   ]
  },
  {
   "cell_type": "markdown",
   "id": "87260565",
   "metadata": {},
   "source": [
    "# 2. BASIC DATA TYPES\n",
    "\n",
    "you may have noticed that, ins ome instances , array elements are displayed with a trailing dot(eg, 2. vs 2) . This is due to a difference in the data-type used:"
   ]
  },
  {
   "cell_type": "code",
   "execution_count": 11,
   "id": "0b4944f6",
   "metadata": {},
   "outputs": [
    {
     "name": "stdout",
     "output_type": "stream",
     "text": [
      "[0 1 2 3 4 5 6 7 8 9]\n"
     ]
    },
    {
     "data": {
      "text/plain": [
       "dtype('int32')"
      ]
     },
     "execution_count": 11,
     "metadata": {},
     "output_type": "execute_result"
    }
   ],
   "source": [
    "a = np.arange(10) #numpy array\n",
    " \n",
    "print(a)\n",
    "\n",
    "a.dtype"
   ]
  },
  {
   "cell_type": "code",
   "execution_count": 16,
   "id": "a6479566",
   "metadata": {},
   "outputs": [
    {
     "data": {
      "text/plain": [
       "dtype('float64')"
      ]
     },
     "execution_count": 16,
     "metadata": {},
     "output_type": "execute_result"
    }
   ],
   "source": [
    "#you can explictily specify which data type you want:\n",
    "\n",
    "a = np.arange(10, dtype = \"float64\")\n",
    "a\n",
    "\n",
    "a.dtype"
   ]
  },
  {
   "cell_type": "code",
   "execution_count": 17,
   "id": "8fbd324d",
   "metadata": {},
   "outputs": [
    {
     "name": "stdout",
     "output_type": "stream",
     "text": [
      "[[0. 0. 0.]\n",
      " [0. 0. 0.]]\n"
     ]
    },
    {
     "data": {
      "text/plain": [
       "dtype('float64')"
      ]
     },
     "execution_count": 17,
     "metadata": {},
     "output_type": "execute_result"
    }
   ],
   "source": [
    "#The default data type is float for zeroes and one function\n",
    "\n",
    "a = np.zeros((2,3))\n",
    "\n",
    "print(a)\n",
    "\n",
    "a.dtype"
   ]
  },
  {
   "cell_type": "markdown",
   "id": "18e51834",
   "metadata": {},
   "source": [
    "other datatypes:"
   ]
  },
  {
   "cell_type": "code",
   "execution_count": 19,
   "id": "6c8fd07e",
   "metadata": {},
   "outputs": [
    {
     "name": "stdout",
     "output_type": "stream",
     "text": [
      "complex128\n"
     ]
    }
   ],
   "source": [
    "d = np.array([1+2j , 2+4j]) #complex datatypes\n",
    "\n",
    "print(d.dtype)"
   ]
  },
  {
   "cell_type": "code",
   "execution_count": 20,
   "id": "88360e72",
   "metadata": {},
   "outputs": [
    {
     "name": "stdout",
     "output_type": "stream",
     "text": [
      "bool\n"
     ]
    }
   ],
   "source": [
    "b = np.array([True, False , True , False])\n",
    "\n",
    "print(b.dtype)"
   ]
  },
  {
   "cell_type": "code",
   "execution_count": 27,
   "id": "a80c6ad9",
   "metadata": {},
   "outputs": [
    {
     "data": {
      "text/plain": [
       "dtype('<U7')"
      ]
     },
     "execution_count": 27,
     "metadata": {},
     "output_type": "execute_result"
    }
   ],
   "source": [
    "s = np.array([\"Hey, \", \"I am\", \"ironman\"])\n",
    "\n",
    "s1 = np.array(['Malay' , ' Thakur'])\n",
    "s.dtype\n",
    "s1.dtype\n"
   ]
  },
  {
   "cell_type": "markdown",
   "id": "fbf6f365",
   "metadata": {},
   "source": [
    "#### Each built-in data type has a character code tha uniquely identifies it.\n",
    "\n",
    "'b' - boolean\n",
    "\n",
    "'i' - signed(integer)\n",
    "\n",
    "'u' - unsigned (integer)\n",
    "\n",
    "'f' - floating point\n",
    "\n",
    "'c' - complex floating point\n",
    "\n",
    "'m' - timedelta\n",
    "\n",
    "'M' - datetime\n",
    "\n",
    "'O' - (Python) objects\n",
    "\n",
    "'S' - 'a' - (byte-) string\n",
    "\n",
    "'U' - Unicode\n",
    "\n",
    "'V' - rawdata(void)"
   ]
  },
  {
   "cell_type": "markdown",
   "id": "8936a785",
   "metadata": {},
   "source": [
    "# 3. Indexing and Slicing\n",
    "\n",
    "### 3.1 Indexing:\n",
    "\n",
    "The items of an array can be accessed and assigned to the same way as other Python sequences (e.g.lists):\n"
   ]
  },
  {
   "cell_type": "code",
   "execution_count": 28,
   "id": "ad3e4706",
   "metadata": {},
   "outputs": [
    {
     "name": "stdout",
     "output_type": "stream",
     "text": [
      "6\n"
     ]
    }
   ],
   "source": [
    "a = np.arange(10)\n",
    "\n",
    "print(a[6]) #indices begin at 0 "
   ]
  },
  {
   "cell_type": "code",
   "execution_count": 29,
   "id": "6ac2bbf0",
   "metadata": {},
   "outputs": [
    {
     "name": "stdout",
     "output_type": "stream",
     "text": [
      "3\n"
     ]
    }
   ],
   "source": [
    "#For multidimensional arrays , indexes are tuples of integers:\n",
    "a = np.diag([1,2,3,4])\n",
    "\n",
    "print(a[2,2]) #accessing element at 2nd row and 2 column\n",
    "\n",
    "#remember, rows are identified as [a0 , a1 , a2]  and so columns are c0 , c1 , c2\n"
   ]
  },
  {
   "cell_type": "code",
   "execution_count": 30,
   "id": "6ec0b476",
   "metadata": {},
   "outputs": [
    {
     "data": {
      "text/plain": [
       "array([[1, 0, 0, 0],\n",
       "       [0, 2, 0, 0],\n",
       "       [0, 5, 3, 0],\n",
       "       [0, 0, 0, 4]])"
      ]
     },
     "execution_count": 30,
     "metadata": {},
     "output_type": "execute_result"
    }
   ],
   "source": [
    "a[2,1] = 5 #assigning value\n",
    "a"
   ]
  },
  {
   "cell_type": "markdown",
   "id": "7a837f39",
   "metadata": {},
   "source": [
    "## 3.2 slicing"
   ]
  },
  {
   "cell_type": "code",
   "execution_count": 32,
   "id": "1c30d4c4",
   "metadata": {},
   "outputs": [
    {
     "data": {
      "text/plain": [
       "array([0, 1, 2, 3, 4, 5, 6, 7, 8, 9])"
      ]
     },
     "execution_count": 32,
     "metadata": {},
     "output_type": "execute_result"
    }
   ],
   "source": [
    "a = np.arange(10)\n",
    "\n",
    "a\n"
   ]
  },
  {
   "cell_type": "code",
   "execution_count": 33,
   "id": "8f252ae6",
   "metadata": {},
   "outputs": [
    {
     "data": {
      "text/plain": [
       "array([0, 2, 4, 6, 8])"
      ]
     },
     "execution_count": 33,
     "metadata": {},
     "output_type": "execute_result"
    }
   ],
   "source": [
    "a[0:10:2]  #startIndex : #endIndex : #step"
   ]
  },
  {
   "cell_type": "code",
   "execution_count": null,
   "id": "6a07d355",
   "metadata": {},
   "outputs": [],
   "source": [
    "#we can also combine"
   ]
  }
 ],
 "metadata": {
  "kernelspec": {
   "display_name": "Python 3 (ipykernel)",
   "language": "python",
   "name": "python3"
  },
  "language_info": {
   "codemirror_mode": {
    "name": "ipython",
    "version": 3
   },
   "file_extension": ".py",
   "mimetype": "text/x-python",
   "name": "python",
   "nbconvert_exporter": "python",
   "pygments_lexer": "ipython3",
   "version": "3.9.7"
  }
 },
 "nbformat": 4,
 "nbformat_minor": 5
}
