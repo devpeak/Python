{
 "cells": [
  {
   "cell_type": "code",
   "execution_count": 2,
   "id": "151342e7",
   "metadata": {},
   "outputs": [
    {
     "name": "stdout",
     "output_type": "stream",
     "text": [
      "<class 'numpy.ndarray'>\n",
      "[ 1  1 -1]\n"
     ]
    }
   ],
   "source": [
    "import numpy as np\n",
    "\n",
    "banana = np.array([-1, -1, -1])\n",
    "\n",
    "apple = np.array([-1, 1, 1])\n",
    "\n",
    "orange = np.array([1, 1, -1])\n",
    "\n",
    "print(type(banana))\n",
    "\n",
    "print(orange)"
   ]
  },
  {
   "cell_type": "code",
   "execution_count": 40,
   "id": "1f74a882",
   "metadata": {},
   "outputs": [
    {
     "name": "stdout",
     "output_type": "stream",
     "text": [
      "Epoch 1/25\n",
      "1/1 [==============================] - 0s 306ms/step - loss: 0.6618 - accuracy: 0.5000\n",
      "Epoch 2/25\n",
      "1/1 [==============================] - 0s 3ms/step - loss: 0.6595 - accuracy: 0.5000\n",
      "Epoch 3/25\n",
      "1/1 [==============================] - 0s 6ms/step - loss: 0.6576 - accuracy: 0.5000\n",
      "Epoch 4/25\n",
      "1/1 [==============================] - 0s 3ms/step - loss: 0.6562 - accuracy: 0.5000\n",
      "Epoch 5/25\n",
      "1/1 [==============================] - 0s 5ms/step - loss: 0.6549 - accuracy: 0.5000\n",
      "Epoch 6/25\n",
      "1/1 [==============================] - 0s 3ms/step - loss: 0.6537 - accuracy: 0.5000\n",
      "Epoch 7/25\n",
      "1/1 [==============================] - 0s 4ms/step - loss: 0.6526 - accuracy: 0.5000\n",
      "Epoch 8/25\n",
      "1/1 [==============================] - 0s 5ms/step - loss: 0.6516 - accuracy: 0.5000\n",
      "Epoch 9/25\n",
      "1/1 [==============================] - 0s 6ms/step - loss: 0.6507 - accuracy: 0.5000\n",
      "Epoch 10/25\n",
      "1/1 [==============================] - 0s 3ms/step - loss: 0.6497 - accuracy: 0.5000\n",
      "Epoch 11/25\n",
      "1/1 [==============================] - 0s 3ms/step - loss: 0.6488 - accuracy: 0.5000\n",
      "Epoch 12/25\n",
      "1/1 [==============================] - 0s 4ms/step - loss: 0.6480 - accuracy: 0.5000\n",
      "Epoch 13/25\n",
      "1/1 [==============================] - 0s 2ms/step - loss: 0.6472 - accuracy: 0.5000\n",
      "Epoch 14/25\n",
      "1/1 [==============================] - 0s 3ms/step - loss: 0.6463 - accuracy: 0.5000\n",
      "Epoch 15/25\n",
      "1/1 [==============================] - 0s 4ms/step - loss: 0.6456 - accuracy: 0.5000\n",
      "Epoch 16/25\n",
      "1/1 [==============================] - 0s 2ms/step - loss: 0.6447 - accuracy: 0.5000\n",
      "Epoch 17/25\n",
      "1/1 [==============================] - 0s 5ms/step - loss: 0.6440 - accuracy: 0.5000\n",
      "Epoch 18/25\n",
      "1/1 [==============================] - 0s 4ms/step - loss: 0.6432 - accuracy: 0.5000\n",
      "Epoch 19/25\n",
      "1/1 [==============================] - 0s 5ms/step - loss: 0.6425 - accuracy: 0.5000\n",
      "Epoch 20/25\n",
      "1/1 [==============================] - 0s 4ms/step - loss: 0.6417 - accuracy: 0.5000\n",
      "Epoch 21/25\n",
      "1/1 [==============================] - 0s 4ms/step - loss: 0.6410 - accuracy: 0.5000\n",
      "Epoch 22/25\n",
      "1/1 [==============================] - 0s 5ms/step - loss: 0.6403 - accuracy: 0.5000\n",
      "Epoch 23/25\n",
      "1/1 [==============================] - 0s 2ms/step - loss: 0.6396 - accuracy: 0.5000\n",
      "Epoch 24/25\n",
      "1/1 [==============================] - 0s 3ms/step - loss: 0.6389 - accuracy: 0.5000\n",
      "Epoch 25/25\n",
      "1/1 [==============================] - 0s 4ms/step - loss: 0.6382 - accuracy: 0.5000\n"
     ]
    },
    {
     "data": {
      "text/plain": [
       "[<matplotlib.lines.Line2D at 0x1dcac4dd1c0>]"
      ]
     },
     "execution_count": 40,
     "metadata": {},
     "output_type": "execute_result"
    },
    {
     "data": {
      "image/png": "[encoded data removed]",
      "text/plain": [
       "<Figure size 432x288 with 1 Axes>"
      ]
     },
     "metadata": {
      "needs_background": "light"
     },
     "output_type": "display_data"
    }
   ],
   "source": [
    "import matplotlib.pyplot as plt\n",
    "from keras.models import Sequential\n",
    "from keras.layers import Dense\n",
    "\n",
    "x = np.array([[0,0],[0,1],[1,0],[1,1]])\n",
    "y = np.array([[0],[1],[1],[0]])\n",
    "\n",
    "model = Sequential()\n",
    "\n",
    "model.add(Dense(2,input_dim = 2, activation='relu'))\n",
    "\n",
    "model.add(Dense(1,activation = 'sigmoid'))\n",
    "\n",
    "model.compile (loss = 'binary_crossentropy', optimizer = 'RMSprop' , metrics = ['accuracy'])\n",
    "\n",
    "history = model.fit(x,y,epochs = 25)\n",
    "history.history.keys()\n",
    "\n",
    "acc = history.history['accuracy']\n",
    "lost = history.history['loss']\n",
    "\n",
    "plt.plot(acc,'r-')\n",
    "plt.plot(lost,'b-')\n",
    "\n",
    "#model.summary() #input_dim \n"
   ]
  },
  {
   "cell_type": "code",
   "execution_count": null,
   "id": "f6fe3796",
   "metadata": {},
   "outputs": [],
   "source": []
  },
  {
   "cell_type": "code",
   "execution_count": null,
   "id": "122237c9",
   "metadata": {},
   "outputs": [],
   "source": []
  },
  {
   "cell_type": "code",
   "execution_count": null,
   "id": "ba1adc47",
   "metadata": {},
   "outputs": [],
   "source": []
  },
  {
   "cell_type": "code",
   "execution_count": null,
   "id": "f875dbca",
   "metadata": {},
   "outputs": [],
   "source": []
  }
 ],
 "metadata": {
  "kernelspec": {
   "display_name": "Python 3 (ipykernel)",
   "language": "python",
   "name": "python3"
  },
  "language_info": {
   "codemirror_mode": {
    "name": "ipython",
    "version": 3
   },
   "file_extension": ".py",
   "mimetype": "text/x-python",
   "name": "python",
   "nbconvert_exporter": "python",
   "pygments_lexer": "ipython3",
   "version": "3.9.7"
  }
 },
 "nbformat": 4,
 "nbformat_minor": 5
}
