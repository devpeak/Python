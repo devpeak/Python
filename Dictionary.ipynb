{
 "cells": [
  {
   "cell_type": "markdown",
   "id": "df737118",
   "metadata": {},
   "source": [
    "# Dictionary [hashtable]\n",
    "\n",
    "Python dictionary is an unordered collection of items. While other compound data types have only values as an element, a dictionary has a key: value pait.\n"
   ]
  },
  {
   "cell_type": "markdown",
   "id": "2ddc8664",
   "metadata": {},
   "source": [
    "# Dict Creation"
   ]
  },
  {
   "cell_type": "code",
   "execution_count": 8,
   "id": "bcf0e1b9",
   "metadata": {},
   "outputs": [
    {
     "name": "stdout",
     "output_type": "stream",
     "text": [
      "{1: 'Malay Thakur', 2: '201b149'}\n",
      "{'name': 'Malay Thakur', 1: ['abc', 'xyz']}\n"
     ]
    }
   ],
   "source": [
    "#empty dictionary\n",
    "\n",
    "my_dict = {}\n",
    "\n",
    "#dictionary with integer keys\n",
    "my_dict = {1: 'Malay Thakur', 2: '201b149'}\n",
    "print(my_dict)\n",
    "\n",
    "#dictionary with mixed keys \n",
    "my_dict = {'name': 'Malay Thakur' , 1: ['abc','xyz']} #keys : name , 1 , #value : Malay Thakur , [abc,xyz]\n",
    "print(my_dict)\n",
    "\n",
    "#create empty dictionary using dict()\n",
    "my_dict = dict()\n",
    "\n",
    "my_dict = dict([(1,'cat'),(2,'dog')]) #creatomg a dict with list of tuples\n",
    "print(my_dict)\n",
    "\n"
   ]
  },
  {
   "cell_type": "code",
   "execution_count": null,
   "id": "a45ecc7b",
   "metadata": {},
   "outputs": [],
   "source": [
    "'''\n",
    "\n",
    "say we have to find the address of n(i) \n",
    "then in list of tuples we have to check one by one every key \n",
    "which takes a lot of time while in hashtable/dictionary\n",
    "it exactly visit the n(i) key . Thats why it is very efficient for searching \n",
    "\n",
    "'''"
   ]
  },
  {
   "cell_type": "markdown",
   "id": "884f10f9",
   "metadata": {},
   "source": [
    "# Dict Access"
   ]
  },
  {
   "cell_type": "code",
   "execution_count": 10,
   "id": "ee182d32",
   "metadata": {},
   "outputs": [
    {
     "name": "stdout",
     "output_type": "stream",
     "text": [
      "malay\n",
      "20\n",
      "201b149\n"
     ]
    }
   ],
   "source": [
    "my_dict = {'name' : 'malay', 'age' : 20, 'enrollment' : \"201b149\"}\n",
    "\n",
    "#get name\n",
    "print(my_dict['name'])\n",
    "print(my_dict['age'])\n",
    "print(my_dict['enrollment'])"
   ]
  },
  {
   "cell_type": "code",
   "execution_count": 11,
   "id": "4f9ebb27",
   "metadata": {},
   "outputs": [
    {
     "ename": "KeyError",
     "evalue": "'degree'",
     "output_type": "error",
     "traceback": [
      "\u001b[1;31m---------------------------------------------------------------------------\u001b[0m",
      "\u001b[1;31mKeyError\u001b[0m                                  Traceback (most recent call last)",
      "\u001b[1;32m~\\AppData\\Local\\Temp/ipykernel_17168/3415962543.py\u001b[0m in \u001b[0;36m<module>\u001b[1;34m\u001b[0m\n\u001b[0;32m      1\u001b[0m \u001b[1;31m#if key is not present it gives keyError\u001b[0m\u001b[1;33m\u001b[0m\u001b[1;33m\u001b[0m\u001b[0m\n\u001b[1;32m----> 2\u001b[1;33m \u001b[0mprint\u001b[0m\u001b[1;33m(\u001b[0m\u001b[0mmy_dict\u001b[0m\u001b[1;33m[\u001b[0m\u001b[1;34m'degree'\u001b[0m\u001b[1;33m]\u001b[0m\u001b[1;33m)\u001b[0m\u001b[1;33m\u001b[0m\u001b[1;33m\u001b[0m\u001b[0m\n\u001b[0m",
      "\u001b[1;31mKeyError\u001b[0m: 'degree'"
     ]
    }
   ],
   "source": [
    "#if key is not present it gives keyError\n",
    "print(my_dict['degree'])"
   ]
  },
  {
   "cell_type": "code",
   "execution_count": 15,
   "id": "41e644af",
   "metadata": {},
   "outputs": [
    {
     "name": "stdout",
     "output_type": "stream",
     "text": [
      "malay\n",
      "201b149\n",
      "None\n"
     ]
    }
   ],
   "source": [
    "#another way of accessing key (more recomended to use)\n",
    "print(my_dict.get('name')) \n",
    "\n",
    "print(my_dict.get('enrollment'))\n",
    "print(my_dict.get('degree')) #don't produce error it will return none"
   ]
  },
  {
   "cell_type": "markdown",
   "id": "52f07c06",
   "metadata": {},
   "source": [
    "# DICT ADD OR MODIFY ELEMENTS"
   ]
  },
  {
   "cell_type": "code",
   "execution_count": 16,
   "id": "f70053c0",
   "metadata": {},
   "outputs": [
    {
     "name": "stdout",
     "output_type": "stream",
     "text": [
      "{'name': 'malay', 'age': 20, 'enrollment': '201b187'}\n"
     ]
    }
   ],
   "source": [
    "my_dict = {'name':'malay' , 'age': 20 , 'enrollment': \"201b149\"}\n",
    "#update name\n",
    "\n",
    "my_dict ['enrollment'] = \"201b187\"\n",
    "print(my_dict)\n"
   ]
  },
  {
   "cell_type": "code",
   "execution_count": 17,
   "id": "426e5d73",
   "metadata": {},
   "outputs": [
    {
     "name": "stdout",
     "output_type": "stream",
     "text": [
      "{'name': 'malay', 'age': 20, 'enrollment': '201b187', 'degree': 'B.tech'}\n"
     ]
    }
   ],
   "source": [
    "#add new key\n",
    "my_dict['degree'] = \"B.tech\"\n",
    "\n",
    "print(my_dict)"
   ]
  },
  {
   "cell_type": "markdown",
   "id": "ee36dbad",
   "metadata": {},
   "source": [
    "# Dict Delete or Remove Element\n"
   ]
  },
  {
   "cell_type": "code",
   "execution_count": 18,
   "id": "fc3822bb",
   "metadata": {},
   "outputs": [
    {
     "name": "stdout",
     "output_type": "stream",
     "text": [
      "25\n",
      "{'name': 'pranab', 'enrollmet': '201b186'}\n"
     ]
    }
   ],
   "source": [
    "#create a dictionary\n",
    "my_dict ={'name':\"pranab\",'age':'25',\"enrollmet\" : \"201b186\"}\n",
    "\n",
    "#remove a particular item\n",
    "\n",
    "print(my_dict.pop('age'))\n",
    "print(my_dict)"
   ]
  },
  {
   "cell_type": "code",
   "execution_count": 20,
   "id": "74fe3e3f",
   "metadata": {},
   "outputs": [
    {
     "name": "stdout",
     "output_type": "stream",
     "text": [
      "{'name': 'pranjal', 'age': 20}\n"
     ]
    }
   ],
   "source": [
    "my_dict = {'name':\"pranjal\", \"age\" : 20,'address': \"pratapgarh\"}\n",
    "#remove an arbitrary key\n",
    "my_dict.popitem()\n",
    "print(my_dict)"
   ]
  },
  {
   "cell_type": "code",
   "execution_count": 21,
   "id": "70a8c9c5",
   "metadata": {},
   "outputs": [
    {
     "name": "stdout",
     "output_type": "stream",
     "text": [
      "{3: 9, 4: 16, 5: 25}\n"
     ]
    }
   ],
   "source": [
    "squares = {2: 4 , 3 :9 , 4:16, 5:25}\n",
    "#delete particular key\n",
    "del squares[2]\n",
    "print(squares)"
   ]
  },
  {
   "cell_type": "code",
   "execution_count": 22,
   "id": "8a595a1a",
   "metadata": {},
   "outputs": [
    {
     "name": "stdout",
     "output_type": "stream",
     "text": [
      "{}\n"
     ]
    }
   ],
   "source": [
    "#removes all item\n",
    "squares.clear()\n",
    "print(squares)"
   ]
  },
  {
   "cell_type": "code",
   "execution_count": 23,
   "id": "d8d4da67",
   "metadata": {},
   "outputs": [
    {
     "ename": "NameError",
     "evalue": "name 'squares' is not defined",
     "output_type": "error",
     "traceback": [
      "\u001b[1;31m---------------------------------------------------------------------------\u001b[0m",
      "\u001b[1;31mNameError\u001b[0m                                 Traceback (most recent call last)",
      "\u001b[1;32m~\\AppData\\Local\\Temp/ipykernel_17168/2028963748.py\u001b[0m in \u001b[0;36m<module>\u001b[1;34m\u001b[0m\n\u001b[0;32m      2\u001b[0m \u001b[1;31m#del dictionary itself\u001b[0m\u001b[1;33m\u001b[0m\u001b[1;33m\u001b[0m\u001b[0m\n\u001b[0;32m      3\u001b[0m \u001b[1;32mdel\u001b[0m \u001b[0msquares\u001b[0m\u001b[1;33m\u001b[0m\u001b[1;33m\u001b[0m\u001b[0m\n\u001b[1;32m----> 4\u001b[1;33m \u001b[0mprint\u001b[0m\u001b[1;33m(\u001b[0m\u001b[0msquares\u001b[0m\u001b[1;33m)\u001b[0m \u001b[1;31m#NameError because dict is deleted\u001b[0m\u001b[1;33m\u001b[0m\u001b[1;33m\u001b[0m\u001b[0m\n\u001b[0m",
      "\u001b[1;31mNameError\u001b[0m: name 'squares' is not defined"
     ]
    }
   ],
   "source": [
    "squares = {2: 4 , 3 :9 , 4:16, 5:25}\n",
    "#del dictionary itself\n",
    "del squares\n",
    "print(squares) #NameError because dict is deleted"
   ]
  },
  {
   "cell_type": "markdown",
   "id": "6742326b",
   "metadata": {},
   "source": [
    "# DICTIONARY METHODS\n"
   ]
  },
  {
   "cell_type": "code",
   "execution_count": 24,
   "id": "5e63d6f5",
   "metadata": {},
   "outputs": [
    {
     "name": "stdout",
     "output_type": "stream",
     "text": [
      "{2: 4, 3: 9, 4: 16, 5: 25}\n"
     ]
    }
   ],
   "source": [
    "squares = {2: 4, 3:9 , 4:16, 5:25}\n",
    "my_dict = squares.copy()\n",
    "print(my_dict)"
   ]
  },
  {
   "cell_type": "code",
   "execution_count": 25,
   "id": "7f827da0",
   "metadata": {},
   "outputs": [
    {
     "name": "stdout",
     "output_type": "stream",
     "text": [
      "{'DSA': 0, 'OS': 0, 'CN': 0}\n"
     ]
    }
   ],
   "source": [
    "#fromkeys[seq[,v]] -> Return a new dictionary with keys from seq and value\n",
    "subjects = {}.fromkeys(['DSA','OS','CN'],0 )\n",
    "print(subjects)\n"
   ]
  },
  {
   "cell_type": "code",
   "execution_count": 27,
   "id": "a66e7fdd",
   "metadata": {},
   "outputs": [
    {
     "name": "stdout",
     "output_type": "stream",
     "text": [
      "dict_items([(2, 4), (3, 9), (4, 16), (5, 25)])\n"
     ]
    }
   ],
   "source": [
    "subjects = {2:4,3:9,4:16,5:25}\n",
    "print(subjects.items())#return a new view of the dictionary item(key,value) , returns list of tuples"
   ]
  },
  {
   "cell_type": "code",
   "execution_count": 28,
   "id": "c047b7a3",
   "metadata": {},
   "outputs": [
    {
     "name": "stdout",
     "output_type": "stream",
     "text": [
      "dict_keys([2, 3, 4, 5])\n"
     ]
    }
   ],
   "source": [
    "subjects = {2:4,3:9,4:16,5:25}\n",
    "print(subjects.keys())#returns a new view of the dictionary keys"
   ]
  },
  {
   "cell_type": "code",
   "execution_count": null,
   "id": "9122183a",
   "metadata": {},
   "outputs": [],
   "source": [
    "subjects = {2:4,3:9,4:16,5:25}\n",
    "print(subject.values()) #returns a new view of the dictionary values"
   ]
  },
  {
   "cell_type": "code",
   "execution_count": 29,
   "id": "21874459",
   "metadata": {},
   "outputs": [
    {
     "name": "stdout",
     "output_type": "stream",
     "text": [
      "['__class__', '__class_getitem__', '__contains__', '__delattr__', '__delitem__', '__dir__', '__doc__', '__eq__', '__format__', '__ge__', '__getattribute__', '__getitem__', '__gt__', '__hash__', '__init__', '__init_subclass__', '__ior__', '__iter__', '__le__', '__len__', '__lt__', '__ne__', '__new__', '__or__', '__reduce__', '__reduce_ex__', '__repr__', '__reversed__', '__ror__', '__setattr__', '__setitem__', '__sizeof__', '__str__', '__subclasshook__', 'clear', 'copy', 'fromkeys', 'get', 'items', 'keys', 'pop', 'popitem', 'setdefault', 'update', 'values']\n"
     ]
    }
   ],
   "source": [
    "#get list of all available methods and attributes of dictionary\n",
    "d ={}\n",
    "print(dir(d))"
   ]
  },
  {
   "cell_type": "markdown",
   "id": "967aa067",
   "metadata": {},
   "source": [
    "# DICT COMPREHENSION"
   ]
  },
  {
   "cell_type": "code",
   "execution_count": 32,
   "id": "fb3cb232",
   "metadata": {},
   "outputs": [
    {
     "name": "stdout",
     "output_type": "stream",
     "text": [
      "('name', 'OS')\n",
      "('faculty', 'Amit Sir')\n"
     ]
    }
   ],
   "source": [
    "#DICT COMPREHENSION ARE JUST LIKE LIST COMPREHENSION BUT FOR DICTIONARIES\n",
    "\n",
    "dct = {'name' : 'OS' , 'faculty' : 'Amit Sir', }\n",
    "for pair in dct.items():\n",
    "    print(pair)"
   ]
  },
  {
   "cell_type": "code",
   "execution_count": 33,
   "id": "2a66a59a",
   "metadata": {},
   "outputs": [
    {
     "name": "stdout",
     "output_type": "stream",
     "text": [
      "{'c': 3, 'd': 4}\n"
     ]
    }
   ],
   "source": [
    "#creatin a new dictionary with only pairs where the value is larger than 2\n",
    "d = {'a': 1, 'b': 2, 'c': 3, 'd': 4}\n",
    "new_dict = {k:v for k,v in d.items() if v>2}\n",
    "print(new_dict)"
   ]
  },
  {
   "cell_type": "code",
   "execution_count": 34,
   "id": "d0f3c689",
   "metadata": {},
   "outputs": [
    {
     "name": "stdout",
     "output_type": "stream",
     "text": [
      "{'cc': 6, 'dc': 8, 'ec': 10}\n"
     ]
    }
   ],
   "source": [
    "#we can also perform operations on the key value pairs.\n",
    "d = {'a': 1, 'b': 2, 'c': 3, 'd': 4 , 'e':5}\n",
    "d = {k + 'c':v *2 for k,v in d.items() if v>2}\n",
    "print(d)"
   ]
  },
  {
   "cell_type": "code",
   "execution_count": null,
   "id": "3c542583",
   "metadata": {},
   "outputs": [],
   "source": []
  }
 ],
 "metadata": {
  "kernelspec": {
   "display_name": "Python 3 (ipykernel)",
   "language": "python",
   "name": "python3"
  },
  "language_info": {
   "codemirror_mode": {
    "name": "ipython",
    "version": 3
   },
   "file_extension": ".py",
   "mimetype": "text/x-python",
   "name": "python",
   "nbconvert_exporter": "python",
   "pygments_lexer": "ipython3",
   "version": "3.9.7"
  }
 },
 "nbformat": 4,
 "nbformat_minor": 5
}
