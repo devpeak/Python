{
 "cells": [
  {
   "cell_type": "markdown",
   "id": "955ccc6f",
   "metadata": {},
   "source": [
    "# STRINGS\n",
    "\n",
    "A String is a sequence of characters.\n",
    "\n",
    "Computers don't deal with characters, they deal with numbers (binary), Even though you may see characters on your screen , internally it is stored and manupilated as a combination of 0's and 1's.\n",
    "\n",
    "This conversion of character to a number is called encoding, and the reverse process is decoding, ASCII and Unicode are some of the popular encoding used.\n",
    "\n",
    "In python , string is sequence of unicode characters."
   ]
  },
  {
   "cell_type": "code",
   "execution_count": 10,
   "id": "88950731",
   "metadata": {},
   "outputs": [
    {
     "name": "stdout",
     "output_type": "stream",
     "text": [
      "WarForTreasure\n",
      "WarForTreasure\n",
      "\n",
      "War \n",
      "    for \n",
      "        Trazor\n",
      "\n",
      "W\n",
      "e\n",
      "rForTreas\n"
     ]
    }
   ],
   "source": [
    "event_name = \"WarForTreasure\"\n",
    "\n",
    "print(event_name)\n",
    "\n",
    "event_name = 'WarForTreasure'\n",
    "\n",
    "print(event_name)\n",
    "\n",
    "event_name = '''\n",
    "War \n",
    "    for \n",
    "        Trazor\n",
    "'''\n",
    "print(event_name)\n",
    "\n",
    "event_name = \"WarForTreasure\"\n",
    "\n",
    "#print first character\n",
    "print(event_name[0])\n",
    "\n",
    "#print last character using negative indexing\n",
    "print(event_name[-1])\n",
    "\n",
    "#slicing 2nd to 5th character\n",
    "print(event_name[2:11])\n"
   ]
  },
  {
   "cell_type": "markdown",
   "id": "a1d53ede",
   "metadata": {},
   "source": [
    "If we try to access index out of the range or use decimal number , we will get errors."
   ]
  },
  {
   "cell_type": "code",
   "execution_count": 12,
   "id": "6d805173",
   "metadata": {},
   "outputs": [
    {
     "ename": "IndexError",
     "evalue": "string index out of range",
     "output_type": "error",
     "traceback": [
      "\u001b[1;31m---------------------------------------------------------------------------\u001b[0m",
      "\u001b[1;31mIndexError\u001b[0m                                Traceback (most recent call last)",
      "\u001b[1;32m~\\AppData\\Local\\Temp/ipykernel_4388/1414128421.py\u001b[0m in \u001b[0;36m<module>\u001b[1;34m\u001b[0m\n\u001b[0;32m      1\u001b[0m \u001b[0mevent_name\u001b[0m \u001b[1;33m=\u001b[0m \u001b[1;34m\"WarForTreasure\"\u001b[0m\u001b[1;33m\u001b[0m\u001b[1;33m\u001b[0m\u001b[0m\n\u001b[1;32m----> 2\u001b[1;33m \u001b[0mprint\u001b[0m\u001b[1;33m(\u001b[0m\u001b[0mevent_name\u001b[0m\u001b[1;33m[\u001b[0m\u001b[1;36m15\u001b[0m\u001b[1;33m]\u001b[0m\u001b[1;33m)\u001b[0m\u001b[1;33m\u001b[0m\u001b[1;33m\u001b[0m\u001b[0m\n\u001b[0m",
      "\u001b[1;31mIndexError\u001b[0m: string index out of range"
     ]
    }
   ],
   "source": [
    "event_name = \"WarForTreasure\"\n",
    "print(event_name[15])"
   ]
  },
  {
   "cell_type": "code",
   "execution_count": 13,
   "id": "732134f8",
   "metadata": {},
   "outputs": [
    {
     "ename": "TypeError",
     "evalue": "string indices must be integers",
     "output_type": "error",
     "traceback": [
      "\u001b[1;31m---------------------------------------------------------------------------\u001b[0m",
      "\u001b[1;31mTypeError\u001b[0m                                 Traceback (most recent call last)",
      "\u001b[1;32m~\\AppData\\Local\\Temp/ipykernel_4388/2740553744.py\u001b[0m in \u001b[0;36m<module>\u001b[1;34m\u001b[0m\n\u001b[1;32m----> 1\u001b[1;33m \u001b[0mprint\u001b[0m\u001b[1;33m(\u001b[0m\u001b[0mevent_name\u001b[0m\u001b[1;33m[\u001b[0m\u001b[1;36m1.5\u001b[0m\u001b[1;33m]\u001b[0m\u001b[1;33m)\u001b[0m\u001b[1;33m\u001b[0m\u001b[1;33m\u001b[0m\u001b[0m\n\u001b[0m",
      "\u001b[1;31mTypeError\u001b[0m: string indices must be integers"
     ]
    }
   ],
   "source": [
    "print(event_name[1.5])"
   ]
  },
  {
   "cell_type": "markdown",
   "id": "8c7a05dd",
   "metadata": {},
   "source": [
    "## HOW TO CHANGE OR DELETE A STRING\n",
    "\n",
    "Strings are immutable. This means that elements of a string cannot be changed once it has been assigned.\n",
    "\n",
    "We can simpy reassign different strings to the same name."
   ]
  },
  {
   "cell_type": "code",
   "execution_count": 14,
   "id": "878140b1",
   "metadata": {},
   "outputs": [
    {
     "ename": "TypeError",
     "evalue": "'str' object does not support item assignment",
     "output_type": "error",
     "traceback": [
      "\u001b[1;31m---------------------------------------------------------------------------\u001b[0m",
      "\u001b[1;31mTypeError\u001b[0m                                 Traceback (most recent call last)",
      "\u001b[1;32m~\\AppData\\Local\\Temp/ipykernel_4388/2564944136.py\u001b[0m in \u001b[0;36m<module>\u001b[1;34m\u001b[0m\n\u001b[0;32m      1\u001b[0m \u001b[0mcourse\u001b[0m \u001b[1;33m=\u001b[0m \u001b[1;34m\"ArtificialIntellligence\"\u001b[0m\u001b[1;33m\u001b[0m\u001b[1;33m\u001b[0m\u001b[0m\n\u001b[1;32m----> 2\u001b[1;33m \u001b[0mcourse\u001b[0m\u001b[1;33m[\u001b[0m\u001b[1;36m7\u001b[0m\u001b[1;33m]\u001b[0m \u001b[1;33m=\u001b[0m \u001b[1;34m\"D\"\u001b[0m\u001b[1;33m\u001b[0m\u001b[1;33m\u001b[0m\u001b[0m\n\u001b[0m",
      "\u001b[1;31mTypeError\u001b[0m: 'str' object does not support item assignment"
     ]
    }
   ],
   "source": [
    "course = \"ArtificialIntellligence\"\n",
    "course[7] = \"D\"\n"
   ]
  },
  {
   "cell_type": "markdown",
   "id": "aceb6f83",
   "metadata": {},
   "source": [
    "We cannot delete or remove characters from a string. But deleting the string entirely is possible using the keyword del."
   ]
  },
  {
   "cell_type": "code",
   "execution_count": 21,
   "id": "b4994d09",
   "metadata": {
    "scrolled": true
   },
   "outputs": [],
   "source": [
    "course = \"ArtificialIntellligence\"\n",
    "del course #delete complete string\n"
   ]
  },
  {
   "cell_type": "code",
   "execution_count": 17,
   "id": "09805d30",
   "metadata": {},
   "outputs": [
    {
     "ename": "NameError",
     "evalue": "name 'course' is not defined",
     "output_type": "error",
     "traceback": [
      "\u001b[1;31m---------------------------------------------------------------------------\u001b[0m",
      "\u001b[1;31mNameError\u001b[0m                                 Traceback (most recent call last)",
      "\u001b[1;32m~\\AppData\\Local\\Temp/ipykernel_4388/1428452056.py\u001b[0m in \u001b[0;36m<module>\u001b[1;34m\u001b[0m\n\u001b[1;32m----> 1\u001b[1;33m \u001b[0mprint\u001b[0m\u001b[1;33m(\u001b[0m\u001b[0mcourse\u001b[0m\u001b[1;33m)\u001b[0m\u001b[1;33m\u001b[0m\u001b[1;33m\u001b[0m\u001b[0m\n\u001b[0m",
      "\u001b[1;31mNameError\u001b[0m: name 'course' is not defined"
     ]
    }
   ],
   "source": [
    "print(course)"
   ]
  },
  {
   "cell_type": "markdown",
   "id": "b1f29f45",
   "metadata": {},
   "source": [
    "# STRING CONCATENATION\n",
    "\n",
    "Joing of two or more strings into a single one is called concatenation.\n",
    "\n",
    "The + operator does this in python.\n",
    "\n",
    "The * operator can be used to repeat the string for a given number of lines.\n"
   ]
  },
  {
   "cell_type": "code",
   "execution_count": 22,
   "id": "9872c9a7",
   "metadata": {},
   "outputs": [
    {
     "name": "stdout",
     "output_type": "stream",
     "text": [
      "Tony Stark\n",
      "Tony Tony Tony \n"
     ]
    }
   ],
   "source": [
    "s1 = \"Tony \"\n",
    "s2 = \"Stark\"\n",
    "\n",
    "#concatenation of 2 strings\n",
    "\n",
    "print(s1+s2)\n",
    "\n",
    "#repeat string n times\n",
    "\n",
    "print(s1 * 3)\n"
   ]
  },
  {
   "cell_type": "markdown",
   "id": "3b769fed",
   "metadata": {},
   "source": [
    "# ITERATION THROUGH STRING"
   ]
  },
  {
   "cell_type": "code",
   "execution_count": 23,
   "id": "2f9a1fe0",
   "metadata": {},
   "outputs": [
    {
     "name": "stdout",
     "output_type": "stream",
     "text": [
      "2 letters found\n"
     ]
    }
   ],
   "source": [
    "count = 0\n",
    "for i in \"Avengers\":\n",
    "    if i == 'e':\n",
    "        count += 1\n",
    "print(count,\"letters found\")"
   ]
  },
  {
   "cell_type": "markdown",
   "id": "4671a597",
   "metadata": {},
   "source": [
    "# STRING MEMBERSHIP TEST "
   ]
  },
  {
   "cell_type": "code",
   "execution_count": 26,
   "id": "f81a5ba7",
   "metadata": {},
   "outputs": [
    {
     "name": "stdout",
     "output_type": "stream",
     "text": [
      "False\n",
      "True\n",
      "True\n"
     ]
    }
   ],
   "source": [
    "print('a' in 'Avengers')\n",
    "print('A' in 'Avengers')\n",
    "\n",
    "print('or' in 'Thor and Thunder')"
   ]
  },
  {
   "cell_type": "markdown",
   "id": "8beacbc8",
   "metadata": {},
   "source": [
    "# STRING METHODS\n",
    "\n",
    "    Some of the commonly used methods are lower(), upper(), join, split(), find(), replace() , etc\n",
    "    "
   ]
  },
  {
   "cell_type": "code",
   "execution_count": 28,
   "id": "875c9c84",
   "metadata": {},
   "outputs": [
    {
     "data": {
      "text/plain": [
       "'aws'"
      ]
     },
     "execution_count": 28,
     "metadata": {},
     "output_type": "execute_result"
    }
   ],
   "source": [
    "course = \"aws\"\n",
    "course.lower()"
   ]
  },
  {
   "cell_type": "code",
   "execution_count": 29,
   "id": "2f5c3eb0",
   "metadata": {},
   "outputs": [
    {
     "data": {
      "text/plain": [
       "'AWS'"
      ]
     },
     "execution_count": 29,
     "metadata": {},
     "output_type": "execute_result"
    }
   ],
   "source": [
    "course.upper()\n"
   ]
  },
  {
   "cell_type": "code",
   "execution_count": 31,
   "id": "e47830b7",
   "metadata": {},
   "outputs": [
    {
     "data": {
      "text/plain": [
       "['I', 'want', 'to', 'learn', 'ai,', 'ml,', 'and', 'aws']"
      ]
     },
     "execution_count": 31,
     "metadata": {},
     "output_type": "execute_result"
    }
   ],
   "source": [
    "course = 'I want to learn ai, ml, and aws'\n",
    "course.split() #splits in a list"
   ]
  },
  {
   "cell_type": "code",
   "execution_count": 41,
   "id": "85f90ad2",
   "metadata": {},
   "outputs": [
    {
     "data": {
      "text/plain": [
       "'I want to learn ai, ml, and aws'"
      ]
     },
     "execution_count": 41,
     "metadata": {},
     "output_type": "execute_result"
    }
   ],
   "source": [
    "' '.join(['I', 'want', 'to', 'learn', 'ai,', 'ml,', 'and', 'aws']) #joins lists elements and forms a string"
   ]
  },
  {
   "cell_type": "code",
   "execution_count": 42,
   "id": "ef374037",
   "metadata": {},
   "outputs": [
    {
     "data": {
      "text/plain": [
       "'os, cn, algo, ds, ai, ml, dbms, aws'"
      ]
     },
     "execution_count": 42,
     "metadata": {},
     "output_type": "execute_result"
    }
   ],
   "source": [
    "', '.join(['os', 'cn', 'algo', 'ds', 'ai', 'ml', 'dbms', 'aws']) # ',' seperate list item with comma"
   ]
  },
  {
   "cell_type": "code",
   "execution_count": 45,
   "id": "bda914e4",
   "metadata": {},
   "outputs": [
    {
     "data": {
      "text/plain": [
       "14"
      ]
     },
     "execution_count": 45,
     "metadata": {},
     "output_type": "execute_result"
    }
   ],
   "source": [
    "course = \"Artificial Intellgence\"\n",
    "course.find(\"ell\") #it returns the index where it starts matching the input element"
   ]
  },
  {
   "cell_type": "code",
   "execution_count": 47,
   "id": "2e3e24fc",
   "metadata": {},
   "outputs": [
    {
     "name": "stdout",
     "output_type": "stream",
     "text": [
      "I am noob\n",
      "I am pro\n"
     ]
    }
   ],
   "source": [
    "coder = \"I am noob\"\n",
    "coder1 = coder.replace(\"noob\", \"pro\") \n",
    "print(coder)\n",
    "print(coder1) #But note strings are immutable"
   ]
  },
  {
   "cell_type": "markdown",
   "id": "ef98a736",
   "metadata": {},
   "source": [
    "# python program to check where a string is palindrom or not ?"
   ]
  },
  {
   "cell_type": "code",
   "execution_count": 2,
   "id": "e26ad401",
   "metadata": {},
   "outputs": [
    {
     "name": "stdout",
     "output_type": "stream",
     "text": [
      "nayan is Pallindrome\n"
     ]
    }
   ],
   "source": [
    "friend = \"NayaN\"\n",
    "\n",
    "#convert entire string to either lower or upper\n",
    "friend = friend.lower()\n",
    "\n",
    "#reverse string\n",
    "rev_str = reversed(friend)\n",
    "\n",
    "#check if the string is equal to its reverse\n",
    "if list(friend) == list(rev_str):\n",
    "    print(\"{} is Pallindrome\".format(friend))\n",
    "else:\n",
    "    print(\"{} is not Pallindrome\".format(friend))"
   ]
  },
  {
   "cell_type": "code",
   "execution_count": 3,
   "id": "6706aea8",
   "metadata": {},
   "outputs": [
    {
     "name": "stdout",
     "output_type": "stream",
     "text": [
      "['n', 'a', 'y', 'a', 'n']\n"
     ]
    }
   ],
   "source": [
    "print(list(friend))"
   ]
  },
  {
   "cell_type": "code",
   "execution_count": 4,
   "id": "27b5e05a",
   "metadata": {},
   "outputs": [
    {
     "name": "stdout",
     "output_type": "stream",
     "text": [
      "malay is not Pallindrome\n"
     ]
    }
   ],
   "source": [
    "friend = \"Malay\"\n",
    "\n",
    "#convert entire string to either lower or upper\n",
    "friend = friend.lower()\n",
    "\n",
    "#reverse string\n",
    "rev_str = reversed(friend)\n",
    "\n",
    "#check if the string is equal to its reverse\n",
    "if list(friend) == list(rev_str):\n",
    "    print(\"{} is Pallindrome\".format(friend))\n",
    "else:\n",
    "    print(\"{} is not Pallindrome\".format(friend))"
   ]
  },
  {
   "cell_type": "code",
   "execution_count": 6,
   "id": "0536bf82",
   "metadata": {},
   "outputs": [
    {
     "name": "stdout",
     "output_type": "stream",
     "text": [
      "['python', 'is', 'love']\n",
      "is\n",
      "love\n",
      "python\n"
     ]
    }
   ],
   "source": [
    "var = \"python is love\"\n",
    "\n",
    "#breaking down list of words into list of words\n",
    "words = var.split()\n",
    "\n",
    "print(words)\n",
    "#sort the list(alphabetically)\n",
    "\n",
    "words.sort()\n",
    "\n",
    "#print sorted words are\n",
    "for word in words:\n",
    "    print(word)"
   ]
  },
  {
   "cell_type": "code",
   "execution_count": null,
   "id": "84cf542c",
   "metadata": {},
   "outputs": [],
   "source": []
  }
 ],
 "metadata": {
  "kernelspec": {
   "display_name": "Python 3 (ipykernel)",
   "language": "python",
   "name": "python3"
  },
  "language_info": {
   "codemirror_mode": {
    "name": "ipython",
    "version": 3
   },
   "file_extension": ".py",
   "mimetype": "text/x-python",
   "name": "python",
   "nbconvert_exporter": "python",
   "pygments_lexer": "ipython3",
   "version": "3.9.7"
  }
 },
 "nbformat": 4,
 "nbformat_minor": 5
}
