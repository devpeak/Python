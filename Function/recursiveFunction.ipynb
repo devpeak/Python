{
 "cells": [
  {
   "cell_type": "markdown",
   "id": "f83d81e7",
   "metadata": {},
   "source": [
    "# Recursion\n",
    "\n",
    "We know that in python, a function can call other functions. It is even possible for the function to call itself. These type of construct are termed as recursive funcitons."
   ]
  },
  {
   "cell_type": "markdown",
   "id": "4a19f21c",
   "metadata": {},
   "source": [
    "## Examples:"
   ]
  },
  {
   "cell_type": "code",
   "execution_count": null,
   "id": "54d78381",
   "metadata": {},
   "outputs": [],
   "source": [
    "#python proram to print factorial of a number using recursion\n",
    "\n",
    "\"\"\"\n",
    "recursive definiton(stack of funciton calls)\n",
    "\n",
    "fact(5) = 5*4! or 5*4*3! or 5*4*3*2! ... 5*4*3*2*1! where(1!=1)\n",
    "fact(n) = n*fact(n-1) i.e. fact (5) = 5 * fact(4) and fact(4)=4*fact(3)\n",
    "fact(3)=3*fact(2) and fact(2)= 2 *fact(1) and fact(1)=1\n",
    "\n",
    "non-recursive definition\n",
    "\n",
    "fact(n) = n * (n-1) * (n-2) .. \n",
    "\"\"\"\n",
    "\n",
    "def factorial(num):\n",
    "    \n",
    "    \"\"\"\n",
    "    \n",
    "    This is a recursive function to find the facotrial of a given number\n",
    "    \n",
    "    \"\"\"\n",
    "    return 1 if num == 1 else (num * factorial(num-1))\n",
    "\n",
    "num = 5\n",
    "print(\"Factorial of {0} is {1} \".format(num,factorial(num)))"
   ]
  },
  {
   "cell_type": "markdown",
   "id": "366447f6",
   "metadata": {},
   "source": [
    "# Advantages"
   ]
  },
  {
   "cell_type": "markdown",
   "id": "7c83714c",
   "metadata": {},
   "source": [
    "1. Recursion function make the code look clean and elegant.\n",
    "2. A complex task can be broken down into simpler sub-problems using recursion.\n",
    "3. Sequence generation is easier with recursion than using some nested iteration."
   ]
  },
  {
   "cell_type": "markdown",
   "id": "b75943ef",
   "metadata": {},
   "source": [
    "# Distadvantages"
   ]
  },
  {
   "cell_type": "markdown",
   "id": "fc82f66d",
   "metadata": {},
   "source": [
    "1. Sometimes the logic behind recursion is hard to follow through.\n",
    "2. Recursive calls are expensive (insufficient) as they take up a lot of memory and time.\n",
    "3. Recursive function are hard to debug."
   ]
  },
  {
   "cell_type": "markdown",
   "id": "be9083b5",
   "metadata": {},
   "source": [
    "# Python program to display the fibonacci sequence up to n-th term using recursive function\n"
   ]
  },
  {
   "cell_type": "code",
   "execution_count": 2,
   "id": "1d69363f",
   "metadata": {},
   "outputs": [
    {
     "name": "stdout",
     "output_type": "stream",
     "text": [
      "Fibonacci sequence\n",
      "0\n",
      "1\n",
      "1\n",
      "2\n",
      "3\n",
      "5\n",
      "8\n",
      "13\n",
      "21\n",
      "34\n"
     ]
    }
   ],
   "source": [
    "def fibonacci(num):\n",
    "    \"\"\"\n",
    "    Recursive function to print fibonacci sequence\n",
    "    \"\"\"\n",
    "    return num if num<=1 else fibonacci(num-1) + fibonacci(num-2)\n",
    "\n",
    "nterms = 10\n",
    "print(\"Fibonacci sequence\")\n",
    "for num in range(nterms):\n",
    "    print (fibonacci(num))"
   ]
  },
  {
   "cell_type": "markdown",
   "id": "a6fedf1d",
   "metadata": {},
   "source": [
    "\"\"\"\n",
    "_boundary cases:\n",
    "\n",
    "fib(0) = 0\n",
    "fib(1) = 1\n",
    "\n",
    "\"\"\"\n",
    "_recursive cases:\n",
    "\n",
    "fib(n) = fib(n-1) + fib(n-2)"
   ]
  },
  {
   "cell_type": "code",
   "execution_count": null,
   "id": "9902cac4",
   "metadata": {},
   "outputs": [],
   "source": []
  }
 ],
 "metadata": {
  "kernelspec": {
   "display_name": "Python 3 (ipykernel)",
   "language": "python",
   "name": "python3"
  },
  "language_info": {
   "codemirror_mode": {
    "name": "ipython",
    "version": 3
   },
   "file_extension": ".py",
   "mimetype": "text/x-python",
   "name": "python",
   "nbconvert_exporter": "python",
   "pygments_lexer": "ipython3",
   "version": "3.9.7"
  }
 },
 "nbformat": 4,
 "nbformat_minor": 5
}
