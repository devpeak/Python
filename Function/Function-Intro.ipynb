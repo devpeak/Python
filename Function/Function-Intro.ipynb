{
 "cells": [
  {
   "cell_type": "markdown",
   "id": "89028ec4",
   "metadata": {},
   "source": [
    "# PYTHON FUNCTION\n",
    "\n",
    "Function is a group of related statements that perform a specific task.\n",
    "\n",
    "Function help break our program into smaller and modular chunks. As our program grows larger and larger, functions make it more organized and manageable.\n",
    "\n",
    "It avoids repetition and makes code reusable."
   ]
  },
  {
   "cell_type": "markdown",
   "id": "1a527bf2",
   "metadata": {},
   "source": [
    "## SYNTAX:\n",
    "\n",
    "    def function_name(parameters):\n",
    "        \n",
    "        \"\"\"\n",
    "        Doc String\n",
    "            \n",
    "        \"\"\"\n",
    "        statement(s)\n",
    "   \n",
    "  1. keyword \"def\" marks the start of the function header\n",
    "  2. Parameter (arguments) through which we can pass values to a function.These      are optional.\n",
    "  3. A colon(:) to mark the end of the function header.\n",
    "  4. Doc string describe what the function does. This is optional.\n",
    "  5. \"return\" statement to return a value from the function. This is optional.\n",
    "  "
   ]
  },
  {
   "cell_type": "code",
   "execution_count": 10,
   "id": "ed1d2153",
   "metadata": {},
   "outputs": [],
   "source": [
    "def print_name(name):\n",
    "    \"\"\"\n",
    "    This function prints the name  \n",
    "    \n",
    "    \"\"\"\n",
    "    print(\"Hello \" + str(name))\n",
    "    "
   ]
  },
  {
   "cell_type": "markdown",
   "id": "83a56539",
   "metadata": {},
   "source": [
    "# Function call\n",
    "\n",
    "Once we have defined a function, we can call it from anywhere\n"
   ]
  },
  {
   "cell_type": "code",
   "execution_count": 11,
   "id": "4e3d790c",
   "metadata": {},
   "outputs": [
    {
     "name": "stdout",
     "output_type": "stream",
     "text": [
      "Hello Malay\n"
     ]
    }
   ],
   "source": [
    "print_name(\"Malay\")"
   ]
  },
  {
   "cell_type": "markdown",
   "id": "d2456c7d",
   "metadata": {},
   "source": [
    "# DOC STRING\n",
    "\n",
    "The first string after the function header is called the docstring and is short for documentation string.\n",
    "\n",
    "Although optional, documentation is a good programming practice, always document your code.\n",
    "\n",
    "Doc string will be written in triple quotes so that docstring can extend up to multiple lines.\n",
    "\n",
    "GOOD PROGRAMMING PRACTICE - TELLS WHAT FUNCTION IS GOING TO DO\n",
    "    "
   ]
  },
  {
   "cell_type": "code",
   "execution_count": 12,
   "id": "295154ae",
   "metadata": {},
   "outputs": [
    {
     "name": "stdout",
     "output_type": "stream",
     "text": [
      "\n",
      "    This function prints the name  \n",
      "    \n",
      "    \n"
     ]
    }
   ],
   "source": [
    "print(print_name.__doc__) #prints doc string of the function\n"
   ]
  },
  {
   "cell_type": "markdown",
   "id": "f72bd65c",
   "metadata": {},
   "source": [
    "## return statement\n",
    "\n",
    "The return statement is used to exit a function and go back to the place from where it was called.\n",
    "\n",
    "Syntax:\n",
    "\n",
    "    return (expression)\n",
    "    \n",
    "-> return statement can contain an expression which gets evaluated and value is returned.\n",
    "\n",
    "-> if there is no expression in the statement or the return statement itself is not present inside a funciton, then the funciton will return None Object.\n"
   ]
  },
  {
   "cell_type": "code",
   "execution_count": 13,
   "id": "e1c62ca2",
   "metadata": {},
   "outputs": [],
   "source": [
    "def get_sum(lst):\n",
    "    \"\"\"\n",
    "    \n",
    "    This function returns the sum of all the elements in a list\n",
    "    \n",
    "    \"\"\"\n",
    "    #initialize sum\n",
    "    _sum = 0\n",
    "    \n",
    "    #iterating over the list\n",
    "    for num in lst:\n",
    "        _sum += num\n",
    "    return _sum"
   ]
  },
  {
   "cell_type": "code",
   "execution_count": 15,
   "id": "d4eb4d35",
   "metadata": {},
   "outputs": [
    {
     "name": "stdout",
     "output_type": "stream",
     "text": [
      "110\n",
      "\n",
      "    \n",
      "    This function returns the sum of all the elements in a list\n",
      "    \n",
      "    \n"
     ]
    }
   ],
   "source": [
    "s = get_sum([2,4,6,8,10,12,14,16,18,20])\n",
    "print(s)\n",
    "print(get_sum.__doc__)"
   ]
  },
  {
   "cell_type": "markdown",
   "id": "bbf796c8",
   "metadata": {},
   "source": [
    "# SCOPE AND LIFETIME OF VARIABLES\n",
    "\n",
    "-> scope of a variable is the portion of a program where the variable is recognized.\n",
    "\n",
    "-> variable defined inside a function is not visible from outside. Hence they have local scope.\n",
    "\n",
    "-> Lifetime of a variable is the period throughout which the variable exists in the memory.\n",
    "\n",
    "->The lifetime of a variable inside a function is as long as the function exists.\n",
    "\n",
    "->Variables are destroyed once we return from the funtion.\n"
   ]
  },
  {
   "cell_type": "code",
   "execution_count": 18,
   "id": "f083e984",
   "metadata": {},
   "outputs": [
    {
     "name": "stdout",
     "output_type": "stream",
     "text": [
      "This is local variable\n",
      "This is Global varible\n",
      "This is Global varible\n"
     ]
    },
    {
     "ename": "NameError",
     "evalue": "name 'local_var' is not defined",
     "output_type": "error",
     "traceback": [
      "\u001b[1;31m---------------------------------------------------------------------------\u001b[0m",
      "\u001b[1;31mNameError\u001b[0m                                 Traceback (most recent call last)",
      "\u001b[1;32m~\\AppData\\Local\\Temp/ipykernel_7488/4067749125.py\u001b[0m in \u001b[0;36m<module>\u001b[1;34m\u001b[0m\n\u001b[0;32m     19\u001b[0m \u001b[1;33m\u001b[0m\u001b[0m\n\u001b[0;32m     20\u001b[0m \u001b[1;31m#print local variable local_var\u001b[0m\u001b[1;33m\u001b[0m\u001b[1;33m\u001b[0m\u001b[0m\n\u001b[1;32m---> 21\u001b[1;33m \u001b[0mprint\u001b[0m\u001b[1;33m(\u001b[0m\u001b[0mlocal_var\u001b[0m\u001b[1;33m)\u001b[0m\u001b[1;33m\u001b[0m\u001b[1;33m\u001b[0m\u001b[0m\n\u001b[0m",
      "\u001b[1;31mNameError\u001b[0m: name 'local_var' is not defined"
     ]
    }
   ],
   "source": [
    "global_var = \"This is Global varible\"\n",
    "\n",
    "def test_life_time():\n",
    "    \"\"\"\n",
    "    This function test the life time of a variable\n",
    "    \n",
    "    \"\"\"\n",
    "    local_var = \"This is local variable\"\n",
    "    \n",
    "    print(local_var)\n",
    "    \n",
    "    print(global_var)\n",
    "    \n",
    "#calling function\n",
    "test_life_time()\n",
    "\n",
    "#print global variable global_var\n",
    "print(global_var)\n",
    "\n",
    "#print local variable local_var\n",
    "print(local_var)"
   ]
  },
  {
   "cell_type": "markdown",
   "id": "c419923d",
   "metadata": {},
   "source": [
    "#  PYTHON PROGRAM TO PRINT HIGHEST COMMON FACOR OF TWO NUMBERS"
   ]
  },
  {
   "cell_type": "code",
   "execution_count": 21,
   "id": "d46a06f7",
   "metadata": {},
   "outputs": [
    {
     "name": "stdout",
     "output_type": "stream",
     "text": [
      "H.C.F of 36 and 24 is 12\n"
     ]
    }
   ],
   "source": [
    "def computeHCF(a,b):\n",
    "    \"\"\"\n",
    "    Computing HCF Of a numbers.\n",
    "    \n",
    "    \"\"\"\n",
    "    smaller = b if a > b else a #consice way of writing if else statement\n",
    "    \n",
    "    hcf = 1\n",
    "    for i in range (1, smaller+1):\n",
    "        if (a % i == 0) and (b % i == 0):\n",
    "            hcf = i\n",
    "    return hcf\n",
    "\n",
    "num1 = 36\n",
    "num2 = 24\n",
    "\n",
    "print(\"H.C.F of {0} and {1} is {2}\".format(num1, num2, computeHCF(num1, num2)))"
   ]
  },
  {
   "cell_type": "code",
   "execution_count": null,
   "id": "2670bc90",
   "metadata": {},
   "outputs": [],
   "source": []
  }
 ],
 "metadata": {
  "kernelspec": {
   "display_name": "Python 3 (ipykernel)",
   "language": "python",
   "name": "python3"
  },
  "language_info": {
   "codemirror_mode": {
    "name": "ipython",
    "version": 3
   },
   "file_extension": ".py",
   "mimetype": "text/x-python",
   "name": "python",
   "nbconvert_exporter": "python",
   "pygments_lexer": "ipython3",
   "version": "3.9.7"
  }
 },
 "nbformat": 4,
 "nbformat_minor": 5
}
