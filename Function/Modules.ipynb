{
 "cells": [
  {
   "cell_type": "markdown",
   "id": "b99c8a57",
   "metadata": {},
   "source": [
    "# MODULES"
   ]
  },
  {
   "cell_type": "markdown",
   "id": "f58ecfed",
   "metadata": {},
   "source": [
    "Modules refer to a file containing Python statements and definitons.\n",
    "\n",
    "A file containing Python codes, for eg: xyz.py is called a module and its \n",
    "name would be 'xyz'\n",
    "\n",
    "We use modules to break down large programs into small manageable and organized \n",
    "files. Furthermore, modules provide reusability of code.\n",
    "\n",
    "We can define out most used functions in a module and import it, instead of copying their definitions into different programs."
   ]
  },
  {
   "cell_type": "markdown",
   "id": "4ba7a38e",
   "metadata": {},
   "source": [
    "### How to import a module ? "
   ]
  },
  {
   "cell_type": "markdown",
   "id": "fb5df229",
   "metadata": {},
   "source": [
    "we use the import keyword to do this"
   ]
  },
  {
   "cell_type": "code",
   "execution_count": 4,
   "id": "db69d67b",
   "metadata": {},
   "outputs": [
    {
     "name": "stdout",
     "output_type": "stream",
     "text": [
      "3.141592653589793\n"
     ]
    }
   ],
   "source": [
    "import math #import math module\n",
    "\n",
    "print(math.pi)"
   ]
  },
  {
   "cell_type": "code",
   "execution_count": 5,
   "id": "f60427a5",
   "metadata": {},
   "outputs": [
    {
     "data": {
      "text/plain": [
       "datetime.datetime(2022, 5, 13, 21, 19, 36, 301704)"
      ]
     },
     "execution_count": 5,
     "metadata": {},
     "output_type": "execute_result"
    }
   ],
   "source": [
    "import datetime\n",
    "datetime.datetime.now()"
   ]
  },
  {
   "cell_type": "markdown",
   "id": "4b23b903",
   "metadata": {},
   "source": [
    "### import with renaming"
   ]
  },
  {
   "cell_type": "code",
   "execution_count": 6,
   "id": "8e0dce01",
   "metadata": {},
   "outputs": [
    {
     "name": "stdout",
     "output_type": "stream",
     "text": [
      "3.141592653589793\n"
     ]
    }
   ],
   "source": [
    "import math as m\n",
    "print(m.pi)"
   ]
  },
  {
   "cell_type": "markdown",
   "id": "220e2b3b",
   "metadata": {},
   "source": [
    "### from ..import statement"
   ]
  },
  {
   "cell_type": "markdown",
   "id": "80af8982",
   "metadata": {},
   "source": [
    "We can import specific names from a module without importing the\n",
    "module as a whole"
   ]
  },
  {
   "cell_type": "code",
   "execution_count": 7,
   "id": "16c3a165",
   "metadata": {},
   "outputs": [
    {
     "data": {
      "text/plain": [
       "datetime.datetime(2022, 5, 14, 0, 13, 23, 105475)"
      ]
     },
     "execution_count": 7,
     "metadata": {},
     "output_type": "execute_result"
    }
   ],
   "source": [
    "from datetime import datetime\n",
    "datetime.now()"
   ]
  },
  {
   "cell_type": "markdown",
   "id": "dd4a7c99",
   "metadata": {},
   "source": [
    "### import all names"
   ]
  },
  {
   "cell_type": "code",
   "execution_count": 8,
   "id": "cc71cf6a",
   "metadata": {},
   "outputs": [
    {
     "name": "stdout",
     "output_type": "stream",
     "text": [
      "Value of Pi is 3.141592653589793\n"
     ]
    }
   ],
   "source": [
    "from math import * #import everything form math module\n",
    "print(\"Value of Pi is \" + str(pi))"
   ]
  },
  {
   "cell_type": "markdown",
   "id": "fe1f6196",
   "metadata": {},
   "source": [
    "### dir() built in funciton"
   ]
  },
  {
   "cell_type": "markdown",
   "id": "18003227",
   "metadata": {},
   "source": [
    "We can use the dir() function to find out names that are defined inside a module.\n"
   ]
  },
  {
   "cell_type": "code",
   "execution_count": 10,
   "id": "65a11432",
   "metadata": {},
   "outputs": [
    {
     "data": {
      "text/plain": [
       "['__doc__',\n",
       " '__loader__',\n",
       " '__name__',\n",
       " '__package__',\n",
       " '__spec__',\n",
       " 'acos',\n",
       " 'acosh',\n",
       " 'asin',\n",
       " 'asinh',\n",
       " 'atan',\n",
       " 'atan2',\n",
       " 'atanh',\n",
       " 'ceil',\n",
       " 'comb',\n",
       " 'copysign',\n",
       " 'cos',\n",
       " 'cosh',\n",
       " 'degrees',\n",
       " 'dist',\n",
       " 'e',\n",
       " 'erf',\n",
       " 'erfc',\n",
       " 'exp',\n",
       " 'expm1',\n",
       " 'fabs',\n",
       " 'factorial',\n",
       " 'floor',\n",
       " 'fmod',\n",
       " 'frexp',\n",
       " 'fsum',\n",
       " 'gamma',\n",
       " 'gcd',\n",
       " 'hypot',\n",
       " 'inf',\n",
       " 'isclose',\n",
       " 'isfinite',\n",
       " 'isinf',\n",
       " 'isnan',\n",
       " 'isqrt',\n",
       " 'lcm',\n",
       " 'ldexp',\n",
       " 'lgamma',\n",
       " 'log',\n",
       " 'log10',\n",
       " 'log1p',\n",
       " 'log2',\n",
       " 'modf',\n",
       " 'nan',\n",
       " 'nextafter',\n",
       " 'perm',\n",
       " 'pi',\n",
       " 'pow',\n",
       " 'prod',\n",
       " 'radians',\n",
       " 'remainder',\n",
       " 'sin',\n",
       " 'sinh',\n",
       " 'sqrt',\n",
       " 'tan',\n",
       " 'tanh',\n",
       " 'tau',\n",
       " 'trunc',\n",
       " 'ulp']"
      ]
     },
     "execution_count": 10,
     "metadata": {},
     "output_type": "execute_result"
    }
   ],
   "source": [
    "dir(math)"
   ]
  },
  {
   "cell_type": "code",
   "execution_count": 11,
   "id": "adb531a5",
   "metadata": {},
   "outputs": [
    {
     "name": "stdout",
     "output_type": "stream",
     "text": [
      "<built-in function pow>\n"
     ]
    }
   ],
   "source": [
    "print(math.pow)"
   ]
  },
  {
   "cell_type": "code",
   "execution_count": 13,
   "id": "4ac1ad76",
   "metadata": {},
   "outputs": [
    {
     "name": "stdout",
     "output_type": "stream",
     "text": [
      "Return x**y (x to the power of y).\n"
     ]
    }
   ],
   "source": [
    "print(math.pow.__doc__) #tells what does pow does"
   ]
  },
  {
   "cell_type": "code",
   "execution_count": null,
   "id": "3dd6fbd7",
   "metadata": {},
   "outputs": [],
   "source": []
  }
 ],
 "metadata": {
  "kernelspec": {
   "display_name": "Python 3 (ipykernel)",
   "language": "python",
   "name": "python3"
  },
  "language_info": {
   "codemirror_mode": {
    "name": "ipython",
    "version": 3
   },
   "file_extension": ".py",
   "mimetype": "text/x-python",
   "name": "python",
   "nbconvert_exporter": "python",
   "pygments_lexer": "ipython3",
   "version": "3.9.7"
  }
 },
 "nbformat": 4,
 "nbformat_minor": 5
}
