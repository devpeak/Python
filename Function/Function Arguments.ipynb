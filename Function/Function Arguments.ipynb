{
 "cells": [
  {
   "cell_type": "markdown",
   "id": "c2ae9d2c",
   "metadata": {},
   "source": [
    "# FUNCTION ARGUMENTS"
   ]
  },
  {
   "cell_type": "code",
   "execution_count": 1,
   "id": "0873778e",
   "metadata": {},
   "outputs": [
    {
     "name": "stdout",
     "output_type": "stream",
     "text": [
      "Hello Malay , Good morning\n"
     ]
    }
   ],
   "source": [
    "def greet(name, msg):\n",
    "    \"\"\"\n",
    "    \n",
    "    This function greets to person with the provided message\n",
    "    \n",
    "    \"\"\"\n",
    "    print(\"Hello {0} , {1}\".format(name,msg))\n",
    "    \n",
    "#call the function with arguments\n",
    "greet(\"Malay\", \"Good morning\")"
   ]
  },
  {
   "cell_type": "code",
   "execution_count": 2,
   "id": "38ceac46",
   "metadata": {},
   "outputs": [
    {
     "ename": "TypeError",
     "evalue": "greet() missing 1 required positional argument: 'msg'",
     "output_type": "error",
     "traceback": [
      "\u001b[1;31m---------------------------------------------------------------------------\u001b[0m",
      "\u001b[1;31mTypeError\u001b[0m                                 Traceback (most recent call last)",
      "\u001b[1;32m~\\AppData\\Local\\Temp/ipykernel_19600/3987752556.py\u001b[0m in \u001b[0;36m<module>\u001b[1;34m\u001b[0m\n\u001b[0;32m      1\u001b[0m \u001b[1;31m#suppose if we pass one argument\u001b[0m\u001b[1;33m\u001b[0m\u001b[1;33m\u001b[0m\u001b[0m\n\u001b[0;32m      2\u001b[0m \u001b[1;33m\u001b[0m\u001b[0m\n\u001b[1;32m----> 3\u001b[1;33m \u001b[0mgreet\u001b[0m\u001b[1;33m(\u001b[0m\u001b[1;34m\"Malay\"\u001b[0m\u001b[1;33m)\u001b[0m \u001b[1;31m#will get an error\u001b[0m\u001b[1;33m\u001b[0m\u001b[1;33m\u001b[0m\u001b[0m\n\u001b[0m",
      "\u001b[1;31mTypeError\u001b[0m: greet() missing 1 required positional argument: 'msg'"
     ]
    }
   ],
   "source": [
    "#suppose if we pass one argument\n",
    "\n",
    "greet(\"Malay\") #will get an error"
   ]
  },
  {
   "cell_type": "markdown",
   "id": "bb79b0d9",
   "metadata": {},
   "source": [
    "# Different forms of arguments\n",
    "\n",
    "###  1. DEFAULT ARGUMENTS\n",
    "\n",
    "We can provide a default value to an argument by using the assignment operator(=)"
   ]
  },
  {
   "cell_type": "code",
   "execution_count": 5,
   "id": "e7c1c6e3",
   "metadata": {},
   "outputs": [
    {
     "name": "stdout",
     "output_type": "stream",
     "text": [
      "Hello Malay , Good Morning\n",
      "Hello Malay , Good evening\n"
     ]
    }
   ],
   "source": [
    "def greet(name, msg = \"Good Morning\"):\n",
    "    \"\"\"\n",
    "    This function greets to person with the provided message \n",
    "    if message is not provided , it defaults to \"Good Morning\"\n",
    "    \"\"\"\n",
    "    print(\"Hello {0} , {1}\".format(name,msg))\n",
    "    \n",
    "greet(\"Malay\")  #no message argument\n",
    "greet(\"Malay\", \"Good evening\") \n",
    "\n",
    "#when message is not mendatory then use default argument"
   ]
  },
  {
   "cell_type": "markdown",
   "id": "fc7ac1bf",
   "metadata": {},
   "source": [
    "once we have a default argument, all the arguments to its right must also have default values.\n",
    "\n",
    "def greet(msg = \"Good morning , name\")\n",
    "\n",
    "#will get a SyntaxError: non-default argument follows default argument\n",
    "\n",
    "As a _goodProgrammer use default arguments at the end of arguments.\n"
   ]
  },
  {
   "cell_type": "markdown",
   "id": "4066667e",
   "metadata": {},
   "source": [
    "# 2. KEYWORD ARGUMENTS\n",
    "\n",
    "kwargs allows you to pass keyworded variable length of arguments to a function. \n",
    "You should use **kwargs if you want to handle named arguments in a function.\n"
   ]
  },
  {
   "cell_type": "code",
   "execution_count": 8,
   "id": "833981fb",
   "metadata": {},
   "outputs": [
    {
     "name": "stdout",
     "output_type": "stream",
     "text": [
      "Hello Malay, How are you doing! \n"
     ]
    }
   ],
   "source": [
    "def greet(**kwargs): # _key-word argumetns\n",
    "    \"\"\"\n",
    "    This function greets to person with the provided message\n",
    "    \"\"\"\n",
    "    if kwargs:\n",
    "        print(\"Hello {0}, {1}\".format(kwargs['name'], kwargs['msg']))\n",
    "        \n",
    "greet(name = \"Malay\" , msg = \"How are you doing! \")"
   ]
  },
  {
   "cell_type": "markdown",
   "id": "fe8bffce",
   "metadata": {},
   "source": [
    "# 3. ARBITARY ARGUMETNS\n",
    "\n",
    "sometimes, we do not know in advance the number of arguments that will be\n",
    "passed into a function , python allows us to handle this kind of situation \n",
    "through function calls with arbitrary number of arguments."
   ]
  },
  {
   "cell_type": "code",
   "execution_count": 11,
   "id": "ea56574a",
   "metadata": {},
   "outputs": [
    {
     "name": "stdout",
     "output_type": "stream",
     "text": [
      "('Rahul', 'Mayank', 'Aman', 'Ankush', 'Ashutosh')\n",
      "Hey, Rahul\n",
      "Hey, Mayank\n",
      "Hey, Aman\n",
      "Hey, Ankush\n",
      "Hey, Ashutosh\n"
     ]
    }
   ],
   "source": [
    "def greet(*names):\n",
    "    \"\"\"\n",
    "    This function greets all persons in the names tuple\n",
    "    \"\"\"\n",
    "    print(names)\n",
    "    \n",
    "    for name in names:\n",
    "        print(\"Hey, {0}\".format(name))\n",
    "       \n",
    "greet(\"Rahul\",\"Mayank\",\"Aman\",\"Ankush\",\"Ashutosh\")\n"
   ]
  },
  {
   "cell_type": "code",
   "execution_count": null,
   "id": "21f2d1e1",
   "metadata": {},
   "outputs": [],
   "source": []
  }
 ],
 "metadata": {
  "kernelspec": {
   "display_name": "Python 3 (ipykernel)",
   "language": "python",
   "name": "python3"
  },
  "language_info": {
   "codemirror_mode": {
    "name": "ipython",
    "version": 3
   },
   "file_extension": ".py",
   "mimetype": "text/x-python",
   "name": "python",
   "nbconvert_exporter": "python",
   "pygments_lexer": "ipython3",
   "version": "3.9.7"
  }
 },
 "nbformat": 4,
 "nbformat_minor": 5
}
