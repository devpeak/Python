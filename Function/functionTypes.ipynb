{
 "cells": [
  {
   "cell_type": "markdown",
   "id": "fa7ad55b",
   "metadata": {},
   "source": [
    "# Types of Functions\n",
    "\n",
    "1. BUILT-IN FUNCITON\n",
    "2. USER-DEFINED FUNCTIONS"
   ]
  },
  {
   "cell_type": "markdown",
   "id": "969c7013",
   "metadata": {},
   "source": [
    "# BUILT-IN FUNCTIONS\n",
    "\n",
    "## 1. abs()"
   ]
  },
  {
   "cell_type": "code",
   "execution_count": 2,
   "id": "d7a92312",
   "metadata": {},
   "outputs": [
    {
     "name": "stdout",
     "output_type": "stream",
     "text": [
      "100\n",
      "6.9\n"
     ]
    }
   ],
   "source": [
    "#find the absolute value\n",
    "\n",
    "num = -100 \n",
    "\n",
    "print(abs(num))\n",
    "\n",
    "num = -6.9\n",
    "\n",
    "print(abs(num))"
   ]
  },
  {
   "cell_type": "markdown",
   "id": "9a36ea47",
   "metadata": {},
   "source": [
    "## 2. all()\n",
    "\n",
    "return value of all() function\n",
    "\n",
    "True: if all the elements in an iterable(list/tuple) are true.\n",
    "\n",
    "False: if any element in an iterable is false."
   ]
  },
  {
   "cell_type": "code",
   "execution_count": 3,
   "id": "28b36ed5",
   "metadata": {},
   "outputs": [
    {
     "name": "stdout",
     "output_type": "stream",
     "text": [
      "True\n"
     ]
    }
   ],
   "source": [
    "lst = [3,6,9,12,15,18,21,24,27,30]\n",
    "\n",
    "print(all(lst))"
   ]
  },
  {
   "cell_type": "code",
   "execution_count": 5,
   "id": "dbff5a53",
   "metadata": {},
   "outputs": [
    {
     "name": "stdout",
     "output_type": "stream",
     "text": [
      "False\n"
     ]
    }
   ],
   "source": [
    "lst = [0,2,4,6,8] #0 treated as false\n",
    "\n",
    "print(all(lst))"
   ]
  },
  {
   "cell_type": "code",
   "execution_count": 6,
   "id": "43da8cee",
   "metadata": {},
   "outputs": [
    {
     "name": "stdout",
     "output_type": "stream",
     "text": [
      "True\n"
     ]
    }
   ],
   "source": [
    "lst = []   #empty llist always true\n",
    "print(all(lst))"
   ]
  },
  {
   "cell_type": "code",
   "execution_count": null,
   "id": "8c161fee",
   "metadata": {},
   "outputs": [],
   "source": [
    "lst = [False, 1,2]  #false present in a list so all lis is false\n",
    "print(all(lst))"
   ]
  },
  {
   "cell_type": "markdown",
   "id": "ff14649d",
   "metadata": {},
   "source": [
    "## dir()\n",
    "\n",
    "The dir() tries to return a list of valid attributes of the object.\n",
    "\n",
    "if the object has dir() method, the method will be called and must return the list of attributes.\n"
   ]
  },
  {
   "cell_type": "code",
   "execution_count": 7,
   "id": "5831834c",
   "metadata": {},
   "outputs": [
    {
     "name": "stdout",
     "output_type": "stream",
     "text": [
      "['__add__', '__class__', '__class_getitem__', '__contains__', '__delattr__', '__delitem__', '__dir__', '__doc__', '__eq__', '__format__', '__ge__', '__getattribute__', '__getitem__', '__gt__', '__hash__', '__iadd__', '__imul__', '__init__', '__init_subclass__', '__iter__', '__le__', '__len__', '__lt__', '__mul__', '__ne__', '__new__', '__reduce__', '__reduce_ex__', '__repr__', '__reversed__', '__rmul__', '__setattr__', '__setitem__', '__sizeof__', '__str__', '__subclasshook__', 'append', 'clear', 'copy', 'count', 'extend', 'index', 'insert', 'pop', 'remove', 'reverse', 'sort']\n"
     ]
    }
   ],
   "source": [
    "numbers = [2,4,6]\n",
    "\n",
    "print(dir(numbers))\n"
   ]
  },
  {
   "cell_type": "markdown",
   "id": "c4dab9d8",
   "metadata": {},
   "source": [
    "## divmod()\n",
    "\n",
    "The divmod() method takes two numbers and returns a pair of numbers(a tuple) consisting of their quotient and remainder."
   ]
  },
  {
   "cell_type": "code",
   "execution_count": 12,
   "id": "5d5732a8",
   "metadata": {},
   "outputs": [
    {
     "name": "stdout",
     "output_type": "stream",
     "text": [
      "(2, 0)\n",
      "(0, 5)\n"
     ]
    }
   ],
   "source": [
    "#print quotient and remainder as a tuple\n",
    "print(divmod(10,5))\n",
    "print(divmod(5,10))\n",
    "\n",
    "#here 10 is dividend and 5 is divisor\n",
    "#here 5 is dividend and 10 is divisor"
   ]
  },
  {
   "cell_type": "markdown",
   "id": "7d97de30",
   "metadata": {},
   "source": [
    "## enumerate()\n",
    "\n",
    "The enumerate() methods add counter to an iterable and returns it.\n",
    "\n",
    "syntax: enumerate(iterable, start=0)\n"
   ]
  },
  {
   "cell_type": "code",
   "execution_count": 16,
   "id": "3482e7fd",
   "metadata": {},
   "outputs": [
    {
     "name": "stdout",
     "output_type": "stream",
     "text": [
      "index 0 has value 10\n",
      "index 1 has value 20\n",
      "index 2 has value 30\n",
      "index 3 has value 40\n",
      "index 4 has value 50\n",
      "\n",
      "\n",
      "index 0 has value 10\n",
      "index 1 has value 20\n",
      "index 2 has value 30\n",
      "index 3 has value 40\n",
      "index 4 has value 50\n",
      "\n",
      "\n",
      "index 5 has value 10\n",
      "index 6 has value 20\n",
      "index 7 has value 30\n",
      "index 8 has value 40\n",
      "index 9 has value 50\n"
     ]
    }
   ],
   "source": [
    "numbers = [10,20,30,40,50]\n",
    "\n",
    "for index, num in enumerate(numbers,0):\n",
    "    print(\"index {0} has value {1}\".format(index,num))\n",
    "    \n",
    "print(\"\\n\")\n",
    "\n",
    "for i,j in enumerate(numbers,0):\n",
    "    print(\"index {0} has value {1}\".format(i,j))\n",
    "    \n",
    "print('\\n')\n",
    "\n",
    "for index, num in enumerate(numbers,5):\n",
    "    print(\"index {0} has value {1}\".format(index,num))"
   ]
  },
  {
   "cell_type": "markdown",
   "id": "3c73468e",
   "metadata": {},
   "source": [
    "## filter()\n",
    "\n",
    "The filter method constructs an iterator from elements of an iterable for which a function returns true.\n",
    "\n",
    "Syntax:\n",
    "        filter(function,iterable)"
   ]
  },
  {
   "cell_type": "code",
   "execution_count": 1,
   "id": "5573c865",
   "metadata": {},
   "outputs": [],
   "source": [
    "def find_positive_number(num):\n",
    "    \"\"\"\n",
    "    This function returns the positive number if num is positive \n",
    "    \n",
    "    \"\"\"\n",
    "    if num > 0:\n",
    "        return num"
   ]
  },
  {
   "cell_type": "code",
   "execution_count": 4,
   "id": "86ef2812",
   "metadata": {},
   "outputs": [
    {
     "name": "stdout",
     "output_type": "stream",
     "text": [
      "[-10, -9, -8, -7, -6, -5, -4, -3, -2, -1, 0, 1, 2, 3, 4, 5, 6, 7, 8, 9]\n",
      "[1, 2, 3, 4, 5, 6, 7, 8, 9]\n"
     ]
    }
   ],
   "source": [
    "number_list = range(-10, 10)\n",
    "print(list(number_list))\n",
    "\n",
    "positive_num_lst = list(filter(find_positive_number, number_list))\n",
    "print(positive_num_lst)"
   ]
  },
  {
   "cell_type": "markdown",
   "id": "71ab7220",
   "metadata": {},
   "source": [
    "# isinstance()\n",
    "\n",
    "The isinstance() function checks if the object (first arguments) is an instance or subclass of class info class(second arguments).\n",
    "\n",
    "syntax: isinstance(object,classinfo)\n"
   ]
  },
  {
   "cell_type": "code",
   "execution_count": 6,
   "id": "beed3266",
   "metadata": {},
   "outputs": [
    {
     "name": "stdout",
     "output_type": "stream",
     "text": [
      "True\n",
      "False\n",
      "True\n"
     ]
    }
   ],
   "source": [
    "lst = [2,4,6,8,10]\n",
    "print(isinstance(lst,list))\n",
    "\n",
    "#try with other datatypes tuples,set\n",
    "t = (1,2,3,4)\n",
    "print(isinstance(t,list))\n",
    "\n",
    "t = (1,2,3,4)\n",
    "print(isinstance(t,tuple))"
   ]
  },
  {
   "cell_type": "markdown",
   "id": "d3f0386e",
   "metadata": {},
   "source": [
    "# map()\n",
    "\n",
    "Map applies a funcion to all the items in an input _list.\n",
    "\n",
    "syntax: map(function_to_apply,list_of_inputs)\n"
   ]
  },
  {
   "cell_type": "code",
   "execution_count": 7,
   "id": "211cc906",
   "metadata": {},
   "outputs": [
    {
     "name": "stdout",
     "output_type": "stream",
     "text": [
      "[9, 36, 81, 144, 225]\n"
     ]
    }
   ],
   "source": [
    "numbers = [3,6,9,12,15]\n",
    "\n",
    "#normal method of computing num^2 for each element in the list.\n",
    "\n",
    "squared = []\n",
    "for num in numbers:\n",
    "    squared.append(num**2)\n",
    "    \n",
    "print(squared)"
   ]
  },
  {
   "cell_type": "code",
   "execution_count": null,
   "id": "a1689481",
   "metadata": {},
   "outputs": [],
   "source": [
    "numbers = [3,6,9,12,15]\n",
    "\n",
    "def powerOfTwo(num):\n",
    "    return num**2\n",
    "\n",
    "#using map() function\n",
    "squared = list(map(powerOfTwo, numbers))\n",
    "print(squared)"
   ]
  },
  {
   "cell_type": "markdown",
   "id": "ec279597",
   "metadata": {},
   "source": [
    "# reduce()\n",
    "\n",
    "reduce() function is for performing some computation on a list and returning the result.\n",
    "\n",
    "It applies a _rolling_computation to sequential pairs of values in list.\n",
    "\n",
    "### (filter , map and reduce ) - > VVI ,\n",
    "        THEY AVOID FOR LOOPS"
   ]
  },
  {
   "cell_type": "code",
   "execution_count": 10,
   "id": "2e39bc48",
   "metadata": {},
   "outputs": [
    {
     "name": "stdout",
     "output_type": "stream",
     "text": [
      "120\n"
     ]
    }
   ],
   "source": [
    "#product of elements in a list\n",
    "\n",
    "product = 1\n",
    "lst = [1,2,3,4,5]\n",
    "\n",
    "#traditional way\n",
    "for num in lst:\n",
    "    product *= num\n",
    "    \n",
    "print(product)"
   ]
  },
  {
   "cell_type": "code",
   "execution_count": 12,
   "id": "7de3b8f9",
   "metadata": {},
   "outputs": [
    {
     "name": "stdout",
     "output_type": "stream",
     "text": [
      "120\n"
     ]
    }
   ],
   "source": [
    "#with reduce()\n",
    "\n",
    "from functools import reduce\n",
    "\n",
    "def multiply (x,y):\n",
    "    return x*y;\n",
    "\n",
    "product = reduce(multiply,lst)\n",
    "print(product)\n"
   ]
  },
  {
   "cell_type": "markdown",
   "id": "51790e77",
   "metadata": {},
   "source": [
    "# USER-DEFINED FUNCITON\n",
    "\n",
    "## Advantages\n",
    "\n",
    "1. User-defined function help to decompose a large program into small segments which makes program easy to understand , maintain and debug.\n",
    "\n",
    "2. If repeated code occurs in a program , function can be used to include those codes and execute when needed by calling that function.\n",
    "\n",
    "3. Programmers working on large project can divide the worlkload by making different functions.\n"
   ]
  },
  {
   "cell_type": "code",
   "execution_count": 13,
   "id": "85cc07d4",
   "metadata": {},
   "outputs": [
    {
     "name": "stdout",
     "output_type": "stream",
     "text": [
      "product of 10 and 20 is 200\n"
     ]
    }
   ],
   "source": [
    "def product_number(a,b):\n",
    "    \"\"\"\n",
    "    \n",
    "    This function returns the product of two numbers\n",
    "    \n",
    "    \"\"\"\n",
    "    product = a*b\n",
    "    return product\n",
    "\n",
    "num1 = 10\n",
    "num2 = 20\n",
    "\n",
    "print(\"product of {0} and {1} is {2}\".format(num1,num2,product_number(num1,num2)))"
   ]
  },
  {
   "cell_type": "markdown",
   "id": "d6e5a124",
   "metadata": {},
   "source": [
    "# python program to make a simple calculator that can add, subtract , multiply and division"
   ]
  },
  {
   "cell_type": "code",
   "execution_count": 16,
   "id": "1914dc93",
   "metadata": {},
   "outputs": [
    {
     "name": "stdout",
     "output_type": "stream",
     "text": [
      "Select Option\n",
      "1. Addition\n",
      "2. Substraction\n",
      "3. Multiplication\n",
      "4. Division\n",
      "Enter choice 1/2/3/42\n",
      "Enter first number: 6.9\n",
      "Enter second number: 3.9\n",
      "Substraction of 6.9 and 3.9 is 3.0000000000000004\n"
     ]
    }
   ],
   "source": [
    "def add(a,b):\n",
    "    \"\"\"\n",
    "    \n",
    "    This function simply add to intergers\n",
    "    \n",
    "    \"\"\"\n",
    "    return a+b\n",
    "def sub(a,b):\n",
    "    \"\"\"\n",
    "    \n",
    "    This simply return the subtraction of two numbers\n",
    "    \n",
    "    \"\"\"\n",
    "    return a-b;\n",
    "def multiply(a,b):\n",
    "    \"\"\"\n",
    "    \n",
    "    This simply return the multiplication of two numbers.\n",
    "    \n",
    "    \"\"\"\n",
    "    return a*b\n",
    "\n",
    "def division(a,b):\n",
    "    \"\"\"\n",
    "    \n",
    "    This simply return the division of two numbers.\n",
    "    \n",
    "    \"\"\"\n",
    "    return a / b\n",
    "\n",
    "print(\"Select Option\")\n",
    "print(\"1. Addition\")\n",
    "print(\"2. Substraction\")\n",
    "print(\"3. Multiplication\")\n",
    "print(\"4. Division\")\n",
    "\n",
    "#take input from user\n",
    "choice = int(input('Enter choice 1/2/3/4'))\n",
    "\n",
    "num1 = float(input('Enter first number: '))\n",
    "num2 = float(input('Enter second number: '))\n",
    "\n",
    "if choice == 1:\n",
    "    print(\"Additon of {0} and {1} is {2}\".format(num1, num2,add(num1,num2)))\n",
    "elif choice == 2:\n",
    "    print(\"Substraction of {0} and {1} is {2}\".format(num1,num2,sub(num1,num2)))\n",
    "elif choice == 3:          \n",
    "    print(\"Multiplication of {0} and {1} is {2} \".format(num1,num2,multiply(num1,num2)))\n",
    "elif choice == 4:\n",
    "    print(\"Division of {0} and {1} is {2}\".format(num1,num2,division(num1,num2)))\n",
    "\n",
    "else:\n",
    "    print(\"INVALID CHOICE\")"
   ]
  },
  {
   "cell_type": "code",
   "execution_count": null,
   "id": "5b376931",
   "metadata": {},
   "outputs": [],
   "source": []
  }
 ],
 "metadata": {
  "kernelspec": {
   "display_name": "Python 3 (ipykernel)",
   "language": "python",
   "name": "python3"
  },
  "language_info": {
   "codemirror_mode": {
    "name": "ipython",
    "version": 3
   },
   "file_extension": ".py",
   "mimetype": "text/x-python",
   "name": "python",
   "nbconvert_exporter": "python",
   "pygments_lexer": "ipython3",
   "version": "3.9.7"
  }
 },
 "nbformat": 4,
 "nbformat_minor": 5
}
