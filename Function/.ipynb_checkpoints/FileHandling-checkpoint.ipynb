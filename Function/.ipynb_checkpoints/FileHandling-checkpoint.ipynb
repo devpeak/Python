{
 "cells": [
  {
   "cell_type": "markdown",
   "id": "5961f716",
   "metadata": {},
   "source": [
    "# FILE I/O"
   ]
  },
  {
   "cell_type": "code",
   "execution_count": null,
   "id": "2963778c",
   "metadata": {},
   "outputs": [],
   "source": []
  },
  {
   "cell_type": "markdown",
   "id": "9220fc29",
   "metadata": {},
   "source": [
    "File is a named location on disk to store related information. It is used to permanently store data in a non-volatile memory (e.g. hard disk).\n",
    "\n",
    "Since random access memory is volatile which loses its data when computer is turned off, we use files for future use of the data.\n",
    "\n",
    "When we want to read from or write to a file we need to open it first. When we are done, it neeeds to be closed, so that resources that are tied with the files are freed.\n",
    "\n",
    "File operation:\n",
    "\n",
    "    1. Open a file\n",
    "    2. Read or write (perform operation)\n",
    "    3. Closing the file"
   ]
  },
  {
   "cell_type": "markdown",
   "id": "70b6dead",
   "metadata": {},
   "source": [
    "## Opening a file"
   ]
  },
  {
   "cell_type": "markdown",
   "id": "af6508f8",
   "metadata": {},
   "source": [
    "python has a built in funciton open() to open a file. This funciton returns a file object, also called a handle, as it is used to read or modify hte file accordingly."
   ]
  },
  {
   "cell_type": "code",
   "execution_count": null,
   "id": "5b405f3c",
   "metadata": {},
   "outputs": [],
   "source": [
    "f = open('filehandling.txt')"
   ]
  },
  {
   "cell_type": "markdown",
   "id": "8da70031",
   "metadata": {},
   "source": [
    "we can specify the mode while opening a file. In mode, we specify whether we want to read 'r' write 'w' or append 'a' to the file. We also specify if we want to open the file in text mode or binary mode."
   ]
  },
  {
   "cell_type": "markdown",
   "id": "90d377e6",
   "metadata": {},
   "source": [
    "## Python File Modes"
   ]
  },
  {
   "cell_type": "markdown",
   "id": "47934301",
   "metadata": {},
   "source": [
    "'r' Open a file for reading . (default)\n",
    "\n",
    "'w' Open a file for writing. Creates a new file if it does not exist or truncates the file if it exists.\n",
    "\n",
    "'x' Open a file for exclusive creation. If the file already exists, the operaitons fails.\n",
    "\n",
    "'a' Open for appending at the end of the file without trucating it. Creates a new file if it does not exist.\n",
    "\n",
    "'t' Open in text mode.(default)\n",
    "\n",
    "'b' Open in binary mode .. used in scientific computation with matrices , list\n",
    "\n",
    "'+' Open a file for updating (reading and writing)\n"
   ]
  },
  {
   "cell_type": "code",
   "execution_count": null,
   "id": "6b34e81b",
   "metadata": {},
   "outputs": [],
   "source": [
    "f = open('fileHandling.txt') #equivalent to 'r'\n",
    "f = open('fileHandling.txt','r')\n",
    "\n",
    "f = open('fileHandling.txt','w')\n"
   ]
  },
  {
   "cell_type": "markdown",
   "id": "c064be99",
   "metadata": {},
   "source": [
    "The default encoding is platform dependent. In windos, it is 'cp1252' but 'utf-8' in Linux"
   ]
  },
  {
   "cell_type": "markdown",
   "id": "54926247",
   "metadata": {},
   "source": [
    "So we must not also rely on the default encoding or else or code\n",
    "will behave different platform.\n",
    "\n",
    "hense when working with files in text mode, \n",
    "it is highly recommended to specify the encoding type"
   ]
  },
  {
   "cell_type": "markdown",
   "id": "1a54cf4a",
   "metadata": {},
   "source": [
    "## closing a file"
   ]
  },
  {
   "cell_type": "markdown",
   "id": "c872adf8",
   "metadata": {},
   "source": [
    "closing a file will free up the resources that were tied with the file and\n",
    "is done using the close() method\n",
    "\n",
    "Python has a garbage collector to clean up unreferenced objects but , we must not rely on it to close the file "
   ]
  },
  {
   "cell_type": "code",
   "execution_count": null,
   "id": "3551ecd0",
   "metadata": {},
   "outputs": [],
   "source": [
    "f = open('fileHandling.txt')\n",
    "f.close()"
   ]
  },
  {
   "cell_type": "markdown",
   "id": "f2e100d7",
   "metadata": {},
   "source": [
    "This method is not entirely safe. If an exception occurs when we are performing\n",
    "some operation with the file, the code exists without closing the file.\n",
    "\n",
    "A safer way is to use a try .. finally block"
   ]
  },
  {
   "cell_type": "code",
   "execution_count": null,
   "id": "b397f0e8",
   "metadata": {},
   "outputs": [],
   "source": [
    "try:\n",
    "    f = open('fileHandling.txt')\n",
    "    #perform the operations                 [exceptionHandling]\n",
    "    \n",
    "finally:\n",
    "    f.close()"
   ]
  },
  {
   "cell_type": "markdown",
   "id": "8f64d438",
   "metadata": {},
   "source": [
    "This way, we are guarenteed that the file is properly closed even if an \n",
    "exception is raised, causing program flow to stop.\n",
    "\n",
    "The best way to do this is using the with statement, This ensures that the file\n",
    "is closed when the block inside with is exited.\n",
    "\n",
    "We don't need to explicitly call the close() method. It is done internally.\n",
    "\n",
    "with open(\"fileHandling.txt\",encoding = 'utf-8') as f:\n",
    "\n",
    "        #perform file operations"
   ]
  },
  {
   "cell_type": "markdown",
   "id": "9a1bd416",
   "metadata": {},
   "source": [
    "# Writing to a File"
   ]
  },
  {
   "cell_type": "code",
   "execution_count": null,
   "id": "5e6d80b4",
   "metadata": {},
   "outputs": [],
   "source": [
    "In order to write into a file we need to open it in write 'w' , \n",
    "append 'a' or exclusive creation 'x' mode.\n",
    "\n",
    "We need to be careful with the 'w' mode as it will overwrites into the file if \n",
    "it already exists. All previous data are erased.\n",
    "\n",
    "Writing a string or sequence or bytes (for binary files) is done using write() \n",
    "method. This method returns the number of characters written to the files."
   ]
  },
  {
   "cell_type": "code",
   "execution_count": 2,
   "id": "3b3b3bb8",
   "metadata": {},
   "outputs": [],
   "source": [
    "f = open('python.txt','w')\n",
    "f.write(\"I love learning python \\n\")\n",
    "f.write(\"python is worth learning.\\n\")\n",
    "f.close()"
   ]
  },
  {
   "cell_type": "markdown",
   "id": "e3654cd6",
   "metadata": {},
   "source": [
    "This program will create a new file named 'test.txt' if it does not exists. If it does not exist, it is overwritten."
   ]
  },
  {
   "cell_type": "markdown",
   "id": "d185ede0",
   "metadata": {},
   "source": [
    "# Reading from a file "
   ]
  },
  {
   "cell_type": "code",
   "execution_count": null,
   "id": "4d61ad9d",
   "metadata": {},
   "outputs": [],
   "source": [
    "There are various methods available for this purpose. We can use the read (size)\n",
    "method to read in size number of data. If size parameter is not speicified,\n",
    "it reads and returns up to the end of the file."
   ]
  },
  {
   "cell_type": "code",
   "execution_count": 3,
   "id": "f2838b61",
   "metadata": {},
   "outputs": [
    {
     "data": {
      "text/plain": [
       "'I love learning python \\npython is worth learning.\\n'"
      ]
     },
     "execution_count": 3,
     "metadata": {},
     "output_type": "execute_result"
    }
   ],
   "source": [
    "f = open('python.txt')\n",
    "f.read()\n"
   ]
  },
  {
   "cell_type": "code",
   "execution_count": 17,
   "id": "8faadc94",
   "metadata": {},
   "outputs": [
    {
     "data": {
      "text/plain": [
       "'I love'"
      ]
     },
     "execution_count": 17,
     "metadata": {},
     "output_type": "execute_result"
    }
   ],
   "source": [
    "f = open('python.txt', 'r')\n",
    "\n",
    "f.read(6)"
   ]
  },
  {
   "cell_type": "code",
   "execution_count": 18,
   "id": "b4d4c077",
   "metadata": {},
   "outputs": [
    {
     "data": {
      "text/plain": [
       "' learnin'"
      ]
     },
     "execution_count": 18,
     "metadata": {},
     "output_type": "execute_result"
    }
   ],
   "source": [
    "#f = open('python.txt', 'r') #see the difference b.w commenting this lineofCode.\n",
    "\n",
    "f.read(8) "
   ]
  },
  {
   "cell_type": "code",
   "execution_count": null,
   "id": "ac77c25b",
   "metadata": {},
   "outputs": [],
   "source": [
    " we can change our current file cursor (position) using the seek() method.\n",
    "    Similarly, the tell() method returns our current position(in number of bytes)."
   ]
  },
  {
   "cell_type": "code",
   "execution_count": 19,
   "id": "719b0e9e",
   "metadata": {},
   "outputs": [
    {
     "data": {
      "text/plain": [
       "14"
      ]
     },
     "execution_count": 19,
     "metadata": {},
     "output_type": "execute_result"
    }
   ],
   "source": [
    "f.tell() #current cursor position in txt file"
   ]
  },
  {
   "cell_type": "code",
   "execution_count": 22,
   "id": "14224fb8",
   "metadata": {},
   "outputs": [
    {
     "data": {
      "text/plain": [
       "1"
      ]
     },
     "execution_count": 22,
     "metadata": {},
     "output_type": "execute_result"
    }
   ],
   "source": [
    "f.seek(0) #bring the file cursor to initial position\n",
    "f.seek(1) #bring the file cursor to first position"
   ]
  },
  {
   "cell_type": "code",
   "execution_count": 21,
   "id": "2b1bd3ca",
   "metadata": {},
   "outputs": [
    {
     "name": "stdout",
     "output_type": "stream",
     "text": [
      "I love learning python \n",
      "python is worth learning.\n",
      "\n"
     ]
    }
   ],
   "source": [
    "print(f.read()) #read the entire file"
   ]
  },
  {
   "cell_type": "markdown",
   "id": "e43d4064",
   "metadata": {},
   "source": [
    "We can read a file line-by-line using a for loop. This is both efficient and fast."
   ]
  },
  {
   "cell_type": "code",
   "execution_count": 23,
   "id": "f6d43a3e",
   "metadata": {},
   "outputs": [
    {
     "name": "stdout",
     "output_type": "stream",
     "text": [
      "I love learning python \n",
      "\n",
      "python is worth learning.\n",
      "\n"
     ]
    }
   ],
   "source": [
    "f.seek(0)\n",
    "for line in f:\n",
    "    print(line)"
   ]
  },
  {
   "cell_type": "code",
   "execution_count": null,
   "id": "eb8742e0",
   "metadata": {},
   "outputs": [],
   "source": [
    "Alternately, We can use readline() method to read individual lines of a file.\n",
    "This method reads a file till the newline, including the newline character."
   ]
  },
  {
   "cell_type": "code",
   "execution_count": 32,
   "id": "d661a484",
   "metadata": {},
   "outputs": [
    {
     "data": {
      "text/plain": [
       "'I love learning python \\n'"
      ]
     },
     "execution_count": 32,
     "metadata": {},
     "output_type": "execute_result"
    }
   ],
   "source": [
    "f = open('python.txt', 'r')\n",
    "f.readline()"
   ]
  },
  {
   "cell_type": "code",
   "execution_count": 33,
   "id": "035c5c3d",
   "metadata": {},
   "outputs": [
    {
     "data": {
      "text/plain": [
       "'python is worth learning.\\n'"
      ]
     },
     "execution_count": 33,
     "metadata": {},
     "output_type": "execute_result"
    }
   ],
   "source": [
    "f.readline()"
   ]
  },
  {
   "cell_type": "code",
   "execution_count": 34,
   "id": "1d6a99b9",
   "metadata": {},
   "outputs": [
    {
     "data": {
      "text/plain": [
       "''"
      ]
     },
     "execution_count": 34,
     "metadata": {},
     "output_type": "execute_result"
    }
   ],
   "source": [
    "f.readline() #produce empty string"
   ]
  },
  {
   "cell_type": "raw",
   "id": "ced0e2c6",
   "metadata": {},
   "source": [
    "The readline() method returns a list of remaining line of the entire file. All\n",
    "these reading method return empty values when end of file(EOF) is reached."
   ]
  },
  {
   "cell_type": "code",
   "execution_count": 35,
   "id": "967703d1",
   "metadata": {},
   "outputs": [
    {
     "data": {
      "text/plain": [
       "['I love learning python \\n', 'python is worth learning.\\n']"
      ]
     },
     "execution_count": 35,
     "metadata": {},
     "output_type": "execute_result"
    }
   ],
   "source": [
    "f.seek(0)\n",
    "f.readlines()\n"
   ]
  },
  {
   "cell_type": "code",
   "execution_count": null,
   "id": "2a2cd632",
   "metadata": {},
   "outputs": [],
   "source": []
  },
  {
   "cell_type": "markdown",
   "id": "da091eff",
   "metadata": {},
   "source": [
    "# Renaming and Deleting files in python"
   ]
  },
  {
   "cell_type": "markdown",
   "id": "8f7845df",
   "metadata": {},
   "source": [
    "while you were using the read/write functions, you may also need to rename/delete\n",
    "a file in Python, So there comes a os module in python which brings the support of file rename/delete operations"
   ]
  },
  {
   "cell_type": "code",
   "execution_count": 43,
   "id": "ebd7bcc4",
   "metadata": {},
   "outputs": [],
   "source": [
    "f = open('python2.txt','w')\n",
    "f.write(\"Python 2 is no more used\")\n",
    "f.write(\"Python 3 is more used in comparision of Python 2\")\n",
    "f.close()"
   ]
  },
  {
   "cell_type": "code",
   "execution_count": 40,
   "id": "c382dddc",
   "metadata": {},
   "outputs": [
    {
     "ename": "FileExistsError",
     "evalue": "[WinError 183] Cannot create a file when that file already exists: 'python2.txt' -> 'python3.txt'",
     "output_type": "error",
     "traceback": [
      "\u001b[1;31m---------------------------------------------------------------------------\u001b[0m",
      "\u001b[1;31mFileExistsError\u001b[0m                           Traceback (most recent call last)",
      "\u001b[1;32m~\\AppData\\Local\\Temp/ipykernel_13844/462763117.py\u001b[0m in \u001b[0;36m<module>\u001b[1;34m\u001b[0m\n\u001b[0;32m      2\u001b[0m \u001b[1;33m\u001b[0m\u001b[0m\n\u001b[0;32m      3\u001b[0m \u001b[1;31m#rename a file form python.txt to python3.txt\u001b[0m\u001b[1;33m\u001b[0m\u001b[1;33m\u001b[0m\u001b[0m\n\u001b[1;32m----> 4\u001b[1;33m \u001b[0mos\u001b[0m\u001b[1;33m.\u001b[0m\u001b[0mrename\u001b[0m\u001b[1;33m(\u001b[0m\u001b[1;34m'python2.txt'\u001b[0m\u001b[1;33m,\u001b[0m\u001b[1;34m'python3.txt'\u001b[0m\u001b[1;33m)\u001b[0m\u001b[1;33m\u001b[0m\u001b[1;33m\u001b[0m\u001b[0m\n\u001b[0m",
      "\u001b[1;31mFileExistsError\u001b[0m: [WinError 183] Cannot create a file when that file already exists: 'python2.txt' -> 'python3.txt'"
     ]
    }
   ],
   "source": [
    "import os\n",
    "\n",
    "#rename a file form python.txt to python3.txt\n",
    "os.rename('python2.txt','python3.txt')"
   ]
  },
  {
   "cell_type": "code",
   "execution_count": 46,
   "id": "62df59c5",
   "metadata": {},
   "outputs": [],
   "source": [
    "f = open('python3.txt','r')\n",
    "f.readlines()\n",
    "f.close()"
   ]
  },
  {
   "cell_type": "code",
   "execution_count": 47,
   "id": "a24a6d8e",
   "metadata": {},
   "outputs": [],
   "source": [
    "#Delete a file python3.txt\n",
    "os.remove('python3.txt')"
   ]
  },
  {
   "cell_type": "code",
   "execution_count": 49,
   "id": "57628d14",
   "metadata": {},
   "outputs": [
    {
     "ename": "FileNotFoundError",
     "evalue": "[Errno 2] No such file or directory: 'python3.txt'",
     "output_type": "error",
     "traceback": [
      "\u001b[1;31m---------------------------------------------------------------------------\u001b[0m",
      "\u001b[1;31mFileNotFoundError\u001b[0m                         Traceback (most recent call last)",
      "\u001b[1;32m~\\AppData\\Local\\Temp/ipykernel_13844/3007199592.py\u001b[0m in \u001b[0;36m<module>\u001b[1;34m\u001b[0m\n\u001b[1;32m----> 1\u001b[1;33m \u001b[0mf\u001b[0m \u001b[1;33m=\u001b[0m \u001b[0mopen\u001b[0m\u001b[1;33m(\u001b[0m\u001b[1;34m'python3.txt'\u001b[0m\u001b[1;33m)\u001b[0m\u001b[1;33m\u001b[0m\u001b[1;33m\u001b[0m\u001b[0m\n\u001b[0m\u001b[0;32m      2\u001b[0m \u001b[0mf\u001b[0m\u001b[1;33m.\u001b[0m\u001b[0mreadline\u001b[0m\u001b[1;33m\u001b[0m\u001b[1;33m\u001b[0m\u001b[0m\n",
      "\u001b[1;31mFileNotFoundError\u001b[0m: [Errno 2] No such file or directory: 'python3.txt'"
     ]
    }
   ],
   "source": [
    "f = open('python3.txt')\n",
    "f.readline"
   ]
  },
  {
   "cell_type": "markdown",
   "id": "0b4836a4",
   "metadata": {},
   "source": [
    "# Python Directory and File Management"
   ]
  },
  {
   "cell_type": "markdown",
   "id": "573acd48",
   "metadata": {},
   "source": [
    "If there are a large number of files to handle in your python program, you can arrange your code within different directories to make things more manageable.\n",
    "\n",
    "A directory or folder is a collection of files and sub-directories. Python has the os module, which provides us with many useful methods to work with directories (and files as well).\n"
   ]
  },
  {
   "cell_type": "markdown",
   "id": "cb726b43",
   "metadata": {},
   "source": [
    "#### Get current Directory"
   ]
  },
  {
   "cell_type": "markdown",
   "id": "6581a774",
   "metadata": {},
   "source": [
    "we can get the present working directory using the getcwd() method.\n",
    "This method returns the current working directory in the form of a string."
   ]
  },
  {
   "cell_type": "code",
   "execution_count": 50,
   "id": "956d359f",
   "metadata": {},
   "outputs": [
    {
     "data": {
      "text/plain": [
       "'E:\\\\Python\\\\Function'"
      ]
     },
     "execution_count": 50,
     "metadata": {},
     "output_type": "execute_result"
    }
   ],
   "source": [
    "import os \n",
    "os.getcwd()"
   ]
  },
  {
   "cell_type": "markdown",
   "id": "0fff3587",
   "metadata": {},
   "source": [
    "### changing Directory"
   ]
  },
  {
   "cell_type": "code",
   "execution_count": null,
   "id": "3a6249f2",
   "metadata": {},
   "outputs": [],
   "source": [
    "We can change the current working directory using the chdir() method.\n",
    "\n",
    "The new path that we want to change to must be be supplied as a string to this\n",
    "method. We can use both forward slash"
   ]
  },
  {
   "cell_type": "code",
   "execution_count": 57,
   "id": "45f4a86c",
   "metadata": {},
   "outputs": [],
   "source": [
    "os.chdir('E:\\Python\\Function\\chdir')"
   ]
  },
  {
   "cell_type": "code",
   "execution_count": 58,
   "id": "743467a6",
   "metadata": {},
   "outputs": [
    {
     "data": {
      "text/plain": [
       "'E:\\\\Python\\\\Function\\\\chdir'"
      ]
     },
     "execution_count": 58,
     "metadata": {},
     "output_type": "execute_result"
    }
   ],
   "source": [
    "os.getcwd()"
   ]
  },
  {
   "cell_type": "markdown",
   "id": "9735c548",
   "metadata": {},
   "source": [
    "### List Dictionaries and Files"
   ]
  },
  {
   "cell_type": "code",
   "execution_count": null,
   "id": "be04c355",
   "metadata": {},
   "outputs": [],
   "source": [
    "All files and sub-directories inside a directory can be known using the\n",
    "listdir() method"
   ]
  },
  {
   "cell_type": "code",
   "execution_count": 61,
   "id": "c191aabd",
   "metadata": {},
   "outputs": [],
   "source": [
    "os.chdir('E:\\Python\\Function')"
   ]
  },
  {
   "cell_type": "code",
   "execution_count": 62,
   "id": "717502f9",
   "metadata": {},
   "outputs": [
    {
     "data": {
      "text/plain": [
       "['.ipynb_checkpoints',\n",
       " 'chdir',\n",
       " 'FileHandling.ipynb',\n",
       " 'filehandling.txt',\n",
       " 'Function Arguments.ipynb',\n",
       " 'Function-Intro.ipynb',\n",
       " 'functionTypes.ipynb',\n",
       " 'lambdaFunction.ipynb',\n",
       " 'Modules.ipynb',\n",
       " 'packages.ipynb',\n",
       " 'python.txt',\n",
       " 'python2.txt',\n",
       " 'recursiveFunction.ipynb']"
      ]
     },
     "execution_count": 62,
     "metadata": {},
     "output_type": "execute_result"
    }
   ],
   "source": [
    "os.listdir(os.getcwd())"
   ]
  },
  {
   "cell_type": "markdown",
   "id": "7c9eb22a",
   "metadata": {},
   "source": [
    "### Making New Directory"
   ]
  },
  {
   "cell_type": "markdown",
   "id": "130d1209",
   "metadata": {},
   "source": [
    "We can make a new directory using the mkdir() method.\n",
    "\n",
    "This method takes in the path of the new directory, if the full path is not specified, the new directory is created in the current working directory,"
   ]
  },
  {
   "cell_type": "code",
   "execution_count": 63,
   "id": "61bdf706",
   "metadata": {},
   "outputs": [
    {
     "data": {
      "text/plain": [
       "'E:\\\\Python\\\\Function'"
      ]
     },
     "execution_count": 63,
     "metadata": {},
     "output_type": "execute_result"
    }
   ],
   "source": [
    "os.getcwd()"
   ]
  },
  {
   "cell_type": "code",
   "execution_count": 64,
   "id": "3863526f",
   "metadata": {},
   "outputs": [],
   "source": [
    "os.mkdir('mkdir')\n",
    "os.mkdir('rmdir')"
   ]
  },
  {
   "cell_type": "code",
   "execution_count": null,
   "id": "6dd4253e",
   "metadata": {},
   "outputs": [],
   "source": [
    "os.rmdir('rmdir')"
   ]
  },
  {
   "cell_type": "code",
   "execution_count": null,
   "id": "3235681e",
   "metadata": {},
   "outputs": [],
   "source": [
    "However, note that rmdir() method can only remove empty directories.\n",
    "\n",
    "In order to remove a non-empty directory we can use the rtree() method\n",
    "inside the shutil module."
   ]
  },
  {
   "cell_type": "code",
   "execution_count": null,
   "id": "976ece54",
   "metadata": {},
   "outputs": [],
   "source": [
    "import shutil \n",
    "\n",
    "os.mkdir('')"
   ]
  },
  {
   "cell_type": "code",
   "execution_count": null,
   "id": "a352ddf8",
   "metadata": {},
   "outputs": [],
   "source": []
  }
 ],
 "metadata": {
  "kernelspec": {
   "display_name": "Python 3 (ipykernel)",
   "language": "python",
   "name": "python3"
  },
  "language_info": {
   "codemirror_mode": {
    "name": "ipython",
    "version": 3
   },
   "file_extension": ".py",
   "mimetype": "text/x-python",
   "name": "python",
   "nbconvert_exporter": "python",
   "pygments_lexer": "ipython3",
   "version": "3.9.7"
  }
 },
 "nbformat": 4,
 "nbformat_minor": 5
}
