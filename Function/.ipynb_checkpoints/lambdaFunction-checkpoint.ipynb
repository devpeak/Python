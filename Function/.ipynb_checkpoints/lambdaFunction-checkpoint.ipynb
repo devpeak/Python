{
 "cells": [
  {
   "cell_type": "markdown",
   "id": "ad90a308",
   "metadata": {},
   "source": [
    "## Anonymous / Lambda Function\n"
   ]
  },
  {
   "cell_type": "markdown",
   "id": "2e935b84",
   "metadata": {},
   "source": [
    "In python , anonymous function is a function that is defined without a name.\n",
    "\n",
    "while normal functions are defined using the def keyword, in Python anonymous \n",
    "functions are defined using the lambda keyword.\n",
    "\n",
    "Lambda functions are used extensively along with built-in-functions like filter() , map() , reduce()\n",
    "\n",
    "syntax:\n",
    "        lambda arguments: expression\n",
    "        "
   ]
  },
  {
   "cell_type": "code",
   "execution_count": 3,
   "id": "2ef38926",
   "metadata": {},
   "outputs": [
    {
     "name": "stdout",
     "output_type": "stream",
     "text": [
      "10\n"
     ]
    }
   ],
   "source": [
    "double = lambda x: x*2  #double - fn-name .. #x-argument .. #x*2 - output\n",
    "\n",
    "print(double(5))\n"
   ]
  },
  {
   "cell_type": "code",
   "execution_count": 1,
   "id": "75cd1127",
   "metadata": {},
   "outputs": [
    {
     "name": "stdout",
     "output_type": "stream",
     "text": [
      "10\n"
     ]
    }
   ],
   "source": [
    "def double(x):\n",
    "    return x * 2\n",
    "\n",
    "print(double(5))"
   ]
  },
  {
   "cell_type": "code",
   "execution_count": null,
   "id": "07a310bb",
   "metadata": {},
   "outputs": [],
   "source": [
    "#example use with filter\n",
    "\n",
    "lst = [1,2,3,4,5]\n",
    "\n",
    "even_lst = list(filter(lambda x: (x%2==0), lst) #lambda x:  (x%2==0) is no-name function .. x is argument \n",
    "print(even_lst)"
   ]
  },
  {
   "cell_type": "markdown",
   "id": "7d6ad565",
   "metadata": {},
   "source": [
    "#example use with map()"
   ]
  },
  {
   "cell_type": "code",
   "execution_count": 25,
   "id": "ce19f8f0",
   "metadata": {},
   "outputs": [
    {
     "name": "stdout",
     "output_type": "stream",
     "text": [
      "[1, 4, 9, 16, 25]\n"
     ]
    }
   ],
   "source": [
    "\n",
    "lst = [1,2,3,4,5]\n",
    "sqr_lst = list(map(lambda x: x**2, lst))\n",
    "print(sqr_lst)\n"
   ]
  },
  {
   "cell_type": "code",
   "execution_count": 26,
   "id": "c57c6ae2",
   "metadata": {},
   "outputs": [
    {
     "name": "stdout",
     "output_type": "stream",
     "text": [
      "120\n"
     ]
    }
   ],
   "source": [
    "#exaple use with reduce()\n",
    "#reduce function can be applied in an iterable like list,tuple,dict \n",
    "\n",
    "from functools import reduce\n",
    "\n",
    "lst = [1,2,3,4,5]\n",
    "\n",
    "produce_lst = reduce(lambda x,y: x*y,lst)\n",
    "print(produce_lst)"
   ]
  },
  {
   "cell_type": "code",
   "execution_count": null,
   "id": "8d661ffd",
   "metadata": {},
   "outputs": [],
   "source": []
  }
 ],
 "metadata": {
  "kernelspec": {
   "display_name": "Python 3 (ipykernel)",
   "language": "python",
   "name": "python3"
  },
  "language_info": {
   "codemirror_mode": {
    "name": "ipython",
    "version": 3
   },
   "file_extension": ".py",
   "mimetype": "text/x-python",
   "name": "python",
   "nbconvert_exporter": "python",
   "pygments_lexer": "ipython3",
   "version": "3.9.7"
  }
 },
 "nbformat": 4,
 "nbformat_minor": 5
}
