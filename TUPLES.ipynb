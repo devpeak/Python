{
 "cells": [
  {
   "cell_type": "markdown",
   "id": "f3a99b94",
   "metadata": {},
   "source": [
    "# TUPLES\n",
    "\n",
    "-> A tuple is similar to list.\n",
    "-> The difference between the two is that we can't change the elements of tuple    once it is assigned whereas in the list, elements can be changed"
   ]
  },
  {
   "cell_type": "markdown",
   "id": "5890eb5c",
   "metadata": {},
   "source": [
    "## Tuple creation"
   ]
  },
  {
   "cell_type": "code",
   "execution_count": 3,
   "id": "57d1054c",
   "metadata": {},
   "outputs": [
    {
     "name": "stdout",
     "output_type": "stream",
     "text": [
      "()\n",
      "(2, 3, 5)\n",
      "(13, 'malay', 70.2)\n",
      "(1, (2, 4, 6), ['malay', '201b149', '6.9'])\n"
     ]
    }
   ],
   "source": [
    "#empty tuple\n",
    "t = ()\n",
    "print(t)\n",
    "\n",
    "#tuple having integers\n",
    "t = (2,3,5)\n",
    "print(t)\n",
    "\n",
    "#tuple with mixed datatypes\n",
    "t = (13, 'malay', 70.2)\n",
    "print(t)\n",
    "\n",
    "#nested tuple\n",
    "t = (1,(2,4,6),['malay', '201b149', '6.9'])\n",
    "print(t)"
   ]
  },
  {
   "cell_type": "code",
   "execution_count": 4,
   "id": "c1f16ae3",
   "metadata": {},
   "outputs": [
    {
     "data": {
      "text/plain": [
       "str"
      ]
     },
     "execution_count": 4,
     "metadata": {},
     "output_type": "execute_result"
    }
   ],
   "source": [
    "#only parenthesis is not enough\n",
    "t = ('satish')\n",
    "type(t)"
   ]
  },
  {
   "cell_type": "code",
   "execution_count": 15,
   "id": "05a72ab8",
   "metadata": {},
   "outputs": [
    {
     "data": {
      "text/plain": [
       "tuple"
      ]
     },
     "execution_count": 15,
     "metadata": {},
     "output_type": "execute_result"
    }
   ],
   "source": [
    "#need comma at the end  \n",
    "t = ('Malay Thakur',)\n",
    "type(t)"
   ]
  },
  {
   "cell_type": "code",
   "execution_count": 16,
   "id": "64c8e571",
   "metadata": {},
   "outputs": [
    {
     "data": {
      "text/plain": [
       "tuple"
      ]
     },
     "execution_count": 16,
     "metadata": {},
     "output_type": "execute_result"
    }
   ],
   "source": [
    "#REMEMBER \n",
    "name = ('MALAY','THAKUR')\n",
    "type(name)"
   ]
  },
  {
   "cell_type": "code",
   "execution_count": 13,
   "id": "1aa768ea",
   "metadata": {},
   "outputs": [
    {
     "name": "stdout",
     "output_type": "stream",
     "text": [
      "<class 'tuple'>\n",
      "('Malay',)\n"
     ]
    }
   ],
   "source": [
    "#parenthesis is optional\n",
    "t = \"Malay\",\n",
    "print(type(t))\n",
    "print(t)"
   ]
  },
  {
   "cell_type": "markdown",
   "id": "ff10c49d",
   "metadata": {},
   "source": [
    "## ACCESSING ELEMENTS IN TUPLE"
   ]
  },
  {
   "cell_type": "code",
   "execution_count": 17,
   "id": "beaaccee",
   "metadata": {},
   "outputs": [
    {
     "name": "stdout",
     "output_type": "stream",
     "text": [
      "os\n"
     ]
    }
   ],
   "source": [
    "t = ('ai', 'os', 'cn' , 'dsa')\n",
    "\n",
    "print(t[1])"
   ]
  },
  {
   "cell_type": "code",
   "execution_count": 18,
   "id": "886abe8e",
   "metadata": {},
   "outputs": [
    {
     "name": "stdout",
     "output_type": "stream",
     "text": [
      "dsa\n"
     ]
    }
   ],
   "source": [
    "#negative Index\n",
    "print(t[-1])"
   ]
  },
  {
   "cell_type": "code",
   "execution_count": 22,
   "id": "be45b1c6",
   "metadata": {},
   "outputs": [
    {
     "name": "stdout",
     "output_type": "stream",
     "text": [
      "('Hulk', ('wanda', 'doctor strange', 'spiderman'))\n",
      "Hulk\n",
      "('wanda', 'doctor strange', 'spiderman')\n",
      "doctor strange\n"
     ]
    }
   ],
   "source": [
    "#nested tuple -> tuples within tuple\n",
    "t = ('Hulk', ('wanda','doctor strange', 'spiderman'))\n",
    "print(t)\n",
    "print(t[0])\n",
    "print(t[1])\n",
    "print(t[1][1])"
   ]
  },
  {
   "cell_type": "code",
   "execution_count": 30,
   "id": "dff58b07",
   "metadata": {},
   "outputs": [
    {
     "name": "stdout",
     "output_type": "stream",
     "text": [
      "(4, 6, 8)\n",
      "(2, 4, 6, 8)\n",
      "(2, 4, 6, 8, 10)\n",
      "(2, 4, 6, 8, 10)\n"
     ]
    }
   ],
   "source": [
    "#SLICING\n",
    "\n",
    "t = (2,4,6,8,10)\n",
    "t1 = (1,2,3,4,5,6,7,8,9,10)\n",
    "print(t[1:4])\n",
    "#print elements from starting to last element(excluding last element)\n",
    "print(t[:-1])\n",
    "#print elements from starting to last\n",
    "print(t[:])\n",
    "#print all even number\n",
    "print(t1[1::2])"
   ]
  },
  {
   "cell_type": "markdown",
   "id": "394be4eb",
   "metadata": {},
   "source": [
    "## Changing a Tuple\n",
    "\n",
    "-> Unlike lists, (tuples are immutable) [lists are mutable]\n",
    "-> This means that elements of a tuple cannot be changed once it has been assigned. But, if the element is itself a mutable datatype like list , its nested items can be changed."
   ]
  },
  {
   "cell_type": "code",
   "execution_count": 32,
   "id": "64435056",
   "metadata": {},
   "outputs": [
    {
     "name": "stdout",
     "output_type": "stream",
     "text": [
      "('toyoto', 'Lambo', 'Audi', 'BMW', ['Bugati', 'Tesla', 'Maruti'])\n"
     ]
    }
   ],
   "source": [
    "#creating tuple\n",
    "car = ('toyoto', 'Lambo' , 'Audi' , 'BMW',['Bugati', 'Hyundai', 'Maruti'])\n",
    "#car[2] = 'Tesla' #type error\n",
    "car[4][1] = 'Tesla'\n",
    "print(car)"
   ]
  },
  {
   "cell_type": "code",
   "execution_count": 38,
   "id": "941afe48",
   "metadata": {},
   "outputs": [
    {
     "name": "stdout",
     "output_type": "stream",
     "text": [
      "('ai', 'aws', 'python', 'cp', 1, 2, 3)\n",
      "('la la ', 'la la ', 'la la ', 'la la ')\n"
     ]
    }
   ],
   "source": [
    "#concatinating Tuples\n",
    "t = ('ai','aws','python','cp') + (1,2,3)\n",
    "print(t)\n",
    "\n",
    "#repeat the elements in a tuple for a given number of times using the * opearator\n",
    "t = (('la la ',) * 4)\n",
    "print(t)"
   ]
  },
  {
   "cell_type": "markdown",
   "id": "34ce5018",
   "metadata": {},
   "source": [
    "## Tuple Deletion\n",
    "\n",
    "-> we cannot change the elements in a tuple.[immutable]\n",
    "-> That also means we cannot delete or remove items from at tuple.\n",
    "\n",
    "-> delete entire tuple using [del] keyword"
   ]
  },
  {
   "cell_type": "code",
   "execution_count": 45,
   "id": "85706aa1",
   "metadata": {},
   "outputs": [
    {
     "ename": "NameError",
     "evalue": "name 'pet' is not defined",
     "output_type": "error",
     "traceback": [
      "\u001b[1;31m---------------------------------------------------------------------------\u001b[0m",
      "\u001b[1;31mNameError\u001b[0m                                 Traceback (most recent call last)",
      "\u001b[1;32m~\\AppData\\Local\\Temp/ipykernel_13024/4121014675.py\u001b[0m in \u001b[0;36m<module>\u001b[1;34m\u001b[0m\n\u001b[0;32m      3\u001b[0m \u001b[1;31m#delete entire pet tuple\u001b[0m\u001b[1;33m\u001b[0m\u001b[1;33m\u001b[0m\u001b[0m\n\u001b[0;32m      4\u001b[0m \u001b[1;32mdel\u001b[0m \u001b[0mpet\u001b[0m\u001b[1;33m\u001b[0m\u001b[1;33m\u001b[0m\u001b[0m\n\u001b[1;32m----> 5\u001b[1;33m \u001b[0mprint\u001b[0m\u001b[1;33m(\u001b[0m\u001b[0mpet\u001b[0m\u001b[1;33m)\u001b[0m\u001b[1;33m\u001b[0m\u001b[1;33m\u001b[0m\u001b[0m\n\u001b[0m",
      "\u001b[1;31mNameError\u001b[0m: name 'pet' is not defined"
     ]
    }
   ],
   "source": [
    "pet = ('cat' , 'dog' , 'pig' ,'rat')\n",
    "\n",
    "#delete entire pet tuple \n",
    "del pet\n",
    "print(pet) #name error as pet tuple deleted."
   ]
  },
  {
   "cell_type": "markdown",
   "id": "ce1705a5",
   "metadata": {},
   "source": [
    "## Tuple Count"
   ]
  },
  {
   "cell_type": "code",
   "execution_count": 48,
   "id": "b7479003",
   "metadata": {},
   "outputs": [
    {
     "name": "stdout",
     "output_type": "stream",
     "text": [
      "6\n",
      "5\n",
      "3\n",
      "1\n"
     ]
    }
   ],
   "source": [
    "t = (1,2,3,4,1,2,1,2,3,1,13,2,3,1,2,1)\n",
    "#get the frequency of an element appear in a tuple\n",
    "print(t.count(1))\n",
    "print(t.count(2))\n",
    "print(t.count(3))\n",
    "print(t.count(4))"
   ]
  },
  {
   "cell_type": "markdown",
   "id": "165d208c",
   "metadata": {},
   "source": [
    "## Tuple Index"
   ]
  },
  {
   "cell_type": "code",
   "execution_count": 59,
   "id": "2c72fab1",
   "metadata": {},
   "outputs": [
    {
     "name": "stdout",
     "output_type": "stream",
     "text": [
      "5\n",
      "0\n",
      "2\n"
     ]
    }
   ],
   "source": [
    "t = (2,4,2,(6,12,18),10,12,14,16,18,20)\n",
    "#returns an index of given element if it is in the given tuple\n",
    "print(t.index(12))\n",
    "#print the index of a first occurance of an index of a number\n",
    "print(t.index(2))\n",
    "#print(t.index(11)) -> value error if 11 is not in the tuple\n",
    "#print(t[2].index(8)) -> attribute error \n",
    "print(t[3].index(18))"
   ]
  },
  {
   "cell_type": "markdown",
   "id": "e2af98bb",
   "metadata": {},
   "source": [
    "## Tuple Membership"
   ]
  },
  {
   "cell_type": "code",
   "execution_count": 67,
   "id": "5b387935",
   "metadata": {},
   "outputs": [
    {
     "name": "stdout",
     "output_type": "stream",
     "text": [
      "True\n",
      "False\n"
     ]
    }
   ],
   "source": [
    "#test if an item exists in a tuple or not, using the keyword in.\n",
    "prime = (2, 3, 5, 7, 11, 13, 17, 19, 21)\n",
    "print(2 in prime)\n",
    "print(20 in prime)"
   ]
  },
  {
   "cell_type": "markdown",
   "id": "227b59f5",
   "metadata": {},
   "source": [
    "## Built in Function"
   ]
  },
  {
   "cell_type": "markdown",
   "id": "6d355eab",
   "metadata": {},
   "source": [
    "   ### Tuple Length"
   ]
  },
  {
   "cell_type": "code",
   "execution_count": 69,
   "id": "2f598c17",
   "metadata": {},
   "outputs": [
    {
     "name": "stdout",
     "output_type": "stream",
     "text": [
      "10\n"
     ]
    }
   ],
   "source": [
    "cnt = (1,2,3,4,5,6,7,8,9,10)\n",
    "print(len(cnt))"
   ]
  },
  {
   "cell_type": "markdown",
   "id": "1f8053e6",
   "metadata": {},
   "source": [
    "   ### Tuple Sort"
   ]
  },
  {
   "cell_type": "code",
   "execution_count": 86,
   "id": "a6285110",
   "metadata": {},
   "outputs": [
    {
     "name": "stdout",
     "output_type": "stream",
     "text": [
      "sorted tuple :  [1, 1, 3, 4, 4, 5, 5, 6, 7, 8, 10, 17, 19]\n"
     ]
    }
   ],
   "source": [
    "tup = (19,17,8,1,4,5,6,7,3,4,5,1,10)\n",
    "print(\"sorted tuple : \",sorted(tup))"
   ]
  },
  {
   "cell_type": "code",
   "execution_count": 87,
   "id": "e2acd89f",
   "metadata": {},
   "outputs": [
    {
     "name": "stdout",
     "output_type": "stream",
     "text": [
      "[1, 1, 3, 4, 4, 5, 5, 6, 7, 8, 10, 17, 19]\n",
      "[1, 1, 1, 4, 4, 5, 5, 6, 7, 8, 10, 17, 19]\n"
     ]
    }
   ],
   "source": [
    "tup = sorted(tup)\n",
    "print(tup)\n",
    "tup[2] = 1\n",
    "print(tup)"
   ]
  },
  {
   "cell_type": "code",
   "execution_count": 90,
   "id": "30a79602",
   "metadata": {},
   "outputs": [
    {
     "name": "stdout",
     "output_type": "stream",
     "text": [
      "[-4, -2, 0, 4, 6, 8]\n"
     ]
    }
   ],
   "source": [
    "even = (8,6,4,0,-2,-4)\n",
    "even = sorted(even)\n",
    "tup = even\n",
    "print(tup)"
   ]
  },
  {
   "cell_type": "code",
   "execution_count": 92,
   "id": "38d3ccbc",
   "metadata": {},
   "outputs": [
    {
     "name": "stdout",
     "output_type": "stream",
     "text": [
      "8\n",
      "-4\n"
     ]
    }
   ],
   "source": [
    "#get the largest element and smallest element in a tuple\n",
    "print(max(tup))\n",
    "print(min(tup))"
   ]
  },
  {
   "cell_type": "code",
   "execution_count": 93,
   "id": "41196796",
   "metadata": {},
   "outputs": [
    {
     "name": "stdout",
     "output_type": "stream",
     "text": [
      "30\n"
     ]
    }
   ],
   "source": [
    "#get sum of elements in the tuple\n",
    "table = (2,4,6,8,10)\n",
    "print(sum(table))"
   ]
  },
  {
   "cell_type": "code",
   "execution_count": null,
   "id": "d03b9dea",
   "metadata": {},
   "outputs": [],
   "source": []
  }
 ],
 "metadata": {
  "kernelspec": {
   "display_name": "Python 3 (ipykernel)",
   "language": "python",
   "name": "python3"
  },
  "language_info": {
   "codemirror_mode": {
    "name": "ipython",
    "version": 3
   },
   "file_extension": ".py",
   "mimetype": "text/x-python",
   "name": "python",
   "nbconvert_exporter": "python",
   "pygments_lexer": "ipython3",
   "version": "3.9.7"
  }
 },
 "nbformat": 4,
 "nbformat_minor": 5
}
