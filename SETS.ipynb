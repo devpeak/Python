{
 "cells": [
  {
   "cell_type": "markdown",
   "id": "1a717eed",
   "metadata": {},
   "source": [
    "# SETS\n",
    "\n",
    "-> A set is an unordered collection of items[cannot be indexed].Every element is unique (no duplicates).\n",
    "\n",
    "-> The set itself is mutable. We can add or remove items fromm it.\n",
    "\n",
    "-> Sets can be used to perform mathematical set operations like union,intersection,symmetric difference etc.\n",
    "\n",
    "-> created using curly braces{}"
   ]
  },
  {
   "cell_type": "markdown",
   "id": "391c41f0",
   "metadata": {},
   "source": [
    "## Set Creation"
   ]
  },
  {
   "cell_type": "code",
   "execution_count": 3,
   "id": "73184253",
   "metadata": {},
   "outputs": [
    {
     "name": "stdout",
     "output_type": "stream",
     "text": [
      "{1, 2, 3}\n"
     ]
    }
   ],
   "source": [
    "#set of integers\n",
    "s = {1,2,3}\n",
    "print(s)\n",
    "#print(s[0]) ->ERROR: typeerror: set is not subscriptable "
   ]
  },
  {
   "cell_type": "code",
   "execution_count": 4,
   "id": "6dbb7edc",
   "metadata": {},
   "outputs": [
    {
     "name": "stdout",
     "output_type": "stream",
     "text": [
      "{1, 2, 3, 4, 5}\n"
     ]
    }
   ],
   "source": [
    "#set does not allow duplicates. They storre only one instance.\n",
    "s = {1,3,4,5,3,2,3,4,5}\n",
    "print(s)"
   ]
  },
  {
   "cell_type": "code",
   "execution_count": 5,
   "id": "b85f9ac3",
   "metadata": {},
   "outputs": [
    {
     "name": "stdout",
     "output_type": "stream",
     "text": [
      "{1, 2, 3}\n"
     ]
    }
   ],
   "source": [
    "#we can make set from a list\n",
    "s = set([1,2,3,1,2,3,2,3])\n",
    "print(s)"
   ]
  },
  {
   "cell_type": "code",
   "execution_count": 8,
   "id": "080460cf",
   "metadata": {},
   "outputs": [
    {
     "name": "stdout",
     "output_type": "stream",
     "text": [
      "<class 'set'>\n"
     ]
    }
   ],
   "source": [
    "#initiallize a set with set() method\n",
    "s = set()\n",
    "print(type(s))"
   ]
  },
  {
   "cell_type": "markdown",
   "id": "81d0905c",
   "metadata": {},
   "source": [
    "## ADD ELEMENT TO A SET\n",
    "\n",
    "-> We can add single element using add() method and \n",
    " *add* multiple elements using update() method\n",
    "-> sets are mutable"
   ]
  },
  {
   "cell_type": "code",
   "execution_count": 9,
   "id": "bc4b92fe",
   "metadata": {},
   "outputs": [
    {
     "ename": "TypeError",
     "evalue": "'set' object is not subscriptable",
     "output_type": "error",
     "traceback": [
      "\u001b[1;31m---------------------------------------------------------------------------\u001b[0m",
      "\u001b[1;31mTypeError\u001b[0m                                 Traceback (most recent call last)",
      "\u001b[1;32m~\\AppData\\Local\\Temp/ipykernel_24624/1698658469.py\u001b[0m in \u001b[0;36m<module>\u001b[1;34m\u001b[0m\n\u001b[0;32m      1\u001b[0m \u001b[0ms\u001b[0m \u001b[1;33m=\u001b[0m \u001b[1;33m{\u001b[0m\u001b[1;36m22\u001b[0m\u001b[1;33m,\u001b[0m\u001b[1;36m33\u001b[0m\u001b[1;33m,\u001b[0m\u001b[1;36m44\u001b[0m\u001b[1;33m}\u001b[0m\u001b[1;33m\u001b[0m\u001b[1;33m\u001b[0m\u001b[0m\n\u001b[1;32m----> 2\u001b[1;33m \u001b[0mprint\u001b[0m\u001b[1;33m(\u001b[0m\u001b[0ms\u001b[0m\u001b[1;33m[\u001b[0m\u001b[1;36m2\u001b[0m\u001b[1;33m]\u001b[0m\u001b[1;33m)\u001b[0m\u001b[1;33m\u001b[0m\u001b[1;33m\u001b[0m\u001b[0m\n\u001b[0m",
      "\u001b[1;31mTypeError\u001b[0m: 'set' object is not subscriptable"
     ]
    }
   ],
   "source": [
    "s = {22,33,44}\n",
    "print(s[2])"
   ]
  },
  {
   "cell_type": "code",
   "execution_count": 21,
   "id": "f746ea42",
   "metadata": {},
   "outputs": [
    {
     "name": "stdout",
     "output_type": "stream",
     "text": [
      "{33, 66, 99, 44, 77, 22, 55, 88}\n"
     ]
    }
   ],
   "source": [
    "#add an element, note elements are random in set \n",
    "s.add(55) \n",
    "s.add(66)\n",
    "print(s)"
   ]
  },
  {
   "cell_type": "code",
   "execution_count": 24,
   "id": "26f01d4e",
   "metadata": {},
   "outputs": [
    {
     "name": "stdout",
     "output_type": "stream",
     "text": [
      "{35, 5, 10, 15, 20, 25, 30}\n"
     ]
    }
   ],
   "source": [
    "#add multiple elements using update\n",
    "table = {5,10,15}\n",
    "table.add(20)\n",
    "table.update([25,30,35])\n",
    "print(table)"
   ]
  },
  {
   "cell_type": "code",
   "execution_count": 26,
   "id": "5e7bb653",
   "metadata": {},
   "outputs": [
    {
     "name": "stdout",
     "output_type": "stream",
     "text": [
      "{65, 35, 5, 40, 10, 45, 15, 50, 20, 55, 25, 60, 30}\n"
     ]
    }
   ],
   "source": [
    " #add list and set and tuples\n",
    "table.update([40,45],{50,55},(60,65))\n",
    "print(table)"
   ]
  },
  {
   "cell_type": "markdown",
   "id": "0cc017ce",
   "metadata": {},
   "source": [
    "## Removing an elements from a set\n",
    "\n",
    "-> A particular item can be removed from set using methods, \n",
    "1. discard() and 2. remove ()"
   ]
  },
  {
   "cell_type": "code",
   "execution_count": 28,
   "id": "aa5fac07",
   "metadata": {},
   "outputs": [
    {
     "name": "stdout",
     "output_type": "stream",
     "text": [
      "{'BMW', 'toyto', 'tesla', 'TATA'}\n",
      "after removing :  {'BMW', 'toyto', 'tesla'}\n",
      "2. after removing :  {'BMW', 'tesla'}\n"
     ]
    }
   ],
   "source": [
    "car = {'tesla', 'toyto', 'BMW', 'TATA'}\n",
    "print(car)\n",
    "\n",
    "car.discard('TATA')\n",
    "print(\"after removing : \",car)\n",
    "\n",
    "car.remove('toyto')\n",
    "print(\"2. after removing : \",car)"
   ]
  },
  {
   "cell_type": "code",
   "execution_count": 30,
   "id": "7947b7fc",
   "metadata": {},
   "outputs": [
    {
     "name": "stdout",
     "output_type": "stream",
     "text": [
      "{'BMW', 'tesla'}\n"
     ]
    }
   ],
   "source": [
    "#no key error\n",
    "car.discard('maruti')\n",
    "print(car) "
   ]
  },
  {
   "cell_type": "code",
   "execution_count": 29,
   "id": "4dfeaefe",
   "metadata": {},
   "outputs": [
    {
     "ename": "KeyError",
     "evalue": "'maruti'",
     "output_type": "error",
     "traceback": [
      "\u001b[1;31m---------------------------------------------------------------------------\u001b[0m",
      "\u001b[1;31mKeyError\u001b[0m                                  Traceback (most recent call last)",
      "\u001b[1;32m~\\AppData\\Local\\Temp/ipykernel_24624/3120554762.py\u001b[0m in \u001b[0;36m<module>\u001b[1;34m\u001b[0m\n\u001b[1;32m----> 1\u001b[1;33m \u001b[0mcar\u001b[0m\u001b[1;33m.\u001b[0m\u001b[0mremove\u001b[0m\u001b[1;33m(\u001b[0m\u001b[1;34m'maruti'\u001b[0m\u001b[1;33m)\u001b[0m\u001b[1;33m\u001b[0m\u001b[1;33m\u001b[0m\u001b[0m\n\u001b[0m\u001b[0;32m      2\u001b[0m \u001b[0mprint\u001b[0m\u001b[1;33m(\u001b[0m\u001b[0mcar\u001b[0m\u001b[1;33m)\u001b[0m\u001b[1;33m\u001b[0m\u001b[1;33m\u001b[0m\u001b[0m\n",
      "\u001b[1;31mKeyError\u001b[0m: 'maruti'"
     ]
    }
   ],
   "source": [
    "#key error\n",
    "car.remove('maruti')\n",
    "print(car) -> keyerror"
   ]
  },
  {
   "cell_type": "code",
   "execution_count": 31,
   "id": "00b076a5",
   "metadata": {},
   "outputs": [
    {
     "name": "stdout",
     "output_type": "stream",
     "text": [
      "{'mango', 'grapes', 'banana', 'guava', 'apple', 'potato'}\n"
     ]
    }
   ],
   "source": [
    "#we can remove item using pop() method\n",
    "\n",
    "fruits = {'apple','banana','grapes','mango','pineapple','guava','potato'}\n",
    "fruits.pop() #remove random elements\n",
    "print(fruits)"
   ]
  },
  {
   "cell_type": "code",
   "execution_count": 32,
   "id": "97f64097",
   "metadata": {},
   "outputs": [
    {
     "name": "stdout",
     "output_type": "stream",
     "text": [
      "set()\n"
     ]
    }
   ],
   "source": [
    "vegetable = {'potato','brinjal','cauliflower', 'brockili'}\n",
    "vegetable.clear() #removes all items in vegetable set\n",
    "print(vegetable)"
   ]
  },
  {
   "cell_type": "markdown",
   "id": "ea345c98",
   "metadata": {},
   "source": [
    "# PYTHON SET OPERATION"
   ]
  },
  {
   "cell_type": "code",
   "execution_count": 37,
   "id": "d13943c7",
   "metadata": {},
   "outputs": [
    {
     "name": "stdout",
     "output_type": "stream",
     "text": [
      "{2, 3, 4, 5, 6, 7, 8, 9, 10}\n"
     ]
    }
   ],
   "source": [
    "set1 = {1,2,3,5,7,}\n",
    "set2 = {1,2,4,6,8,10}\n",
    "#union of 2 set using | operator (or operator)\n",
    "print(set1 | set2)\n"
   ]
  },
  {
   "cell_type": "code",
   "execution_count": 38,
   "id": "9a92fabf",
   "metadata": {},
   "outputs": [
    {
     "name": "stdout",
     "output_type": "stream",
     "text": [
      "{2, 3, 4, 5, 6, 7, 8, 9, 10}\n"
     ]
    }
   ],
   "source": [
    "#another way of getting union of 2 sets\n",
    "print(set1.union(set2))"
   ]
  },
  {
   "cell_type": "code",
   "execution_count": 42,
   "id": "847c2bd6",
   "metadata": {},
   "outputs": [
    {
     "name": "stdout",
     "output_type": "stream",
     "text": [
      "{1, 2}\n"
     ]
    }
   ],
   "source": [
    "#intersection of 2 sets using $ operator\n",
    "set1 = {1,2,3,5,7,}\n",
    "set2 = {1,2,4,6,8,10}\n",
    "print(set1 & set2)"
   ]
  },
  {
   "cell_type": "code",
   "execution_count": 43,
   "id": "6aea7677",
   "metadata": {},
   "outputs": [
    {
     "name": "stdout",
     "output_type": "stream",
     "text": [
      "{1, 2}\n"
     ]
    }
   ],
   "source": [
    "#use intersection function\n",
    "print(set1.intersection(set2))"
   ]
  },
  {
   "cell_type": "code",
   "execution_count": 44,
   "id": "88eb3df2",
   "metadata": {},
   "outputs": [
    {
     "name": "stdout",
     "output_type": "stream",
     "text": [
      "{'b', 'd', 'c', 'f'}\n"
     ]
    }
   ],
   "source": [
    "#set Difference: set of elements that are only in set1 but not in set2\n",
    "set1 = {'a','b','c','d','e','f'}\n",
    "set2 = {'a','e','i','o','u'}\n",
    "print(set1-set2)"
   ]
  },
  {
   "cell_type": "code",
   "execution_count": 45,
   "id": "4259548f",
   "metadata": {},
   "outputs": [
    {
     "name": "stdout",
     "output_type": "stream",
     "text": [
      "{'b', 'd', 'c', 'f'}\n"
     ]
    }
   ],
   "source": [
    "#use set difference function\n",
    "print(set1.difference(set2))"
   ]
  },
  {
   "cell_type": "code",
   "execution_count": 48,
   "id": "fef385bb",
   "metadata": {},
   "outputs": [
    {
     "name": "stdout",
     "output_type": "stream",
     "text": [
      "{'u', 'f', 'b', 'd', 'c', 'i', 'o'}\n"
     ]
    }
   ],
   "source": [
    "'''symmetric Difference: Set of elements in both set1 and set2 \n",
    "    #except those that are common in both.\n",
    "    (A | B) - (A & B)\n",
    "'''\n",
    "#use ^ operator\n",
    "\n",
    "set1 = {'a','b','c','d','e','f'}\n",
    "set2 = {'a','e','i','o','u'}\n",
    "print(set1^set2)"
   ]
  },
  {
   "cell_type": "code",
   "execution_count": 49,
   "id": "c35a4828",
   "metadata": {},
   "outputs": [
    {
     "name": "stdout",
     "output_type": "stream",
     "text": [
      "{'u', 'f', 'b', 'd', 'c', 'i', 'o'}\n"
     ]
    }
   ],
   "source": [
    "#use symmetric_difference function\n",
    "\n",
    "print(set1.symmetric_difference(set2))\n"
   ]
  },
  {
   "cell_type": "code",
   "execution_count": 51,
   "id": "3320e5cb",
   "metadata": {},
   "outputs": [
    {
     "name": "stdout",
     "output_type": "stream",
     "text": [
      "set 'x' is subset of 'p' ? False\n",
      "set 'p' is subset of 'x' ? True\n",
      "set 'q' is subset of 'x' ? False\n",
      "set 'r' is subset of 'b' ? False\n",
      "set 'r' is subset of 'x' ? True\n"
     ]
    }
   ],
   "source": [
    "#FIND issubset()\n",
    "x = {'a','e','i','o','u'}\n",
    "p = {'a'}\n",
    "q = {'b','a'}\n",
    "r = {'a','u'}\n",
    "\n",
    "print(\"set 'x' is subset of 'p' ?\", x.issubset(p)) #check if x is subset of p\n",
    "print(\"set 'p' is subset of 'x' ?\", p.issubset(x))\n",
    "print(\"set 'q' is subset of 'x' ?\", q.issubset(x))\n",
    "print(\"set 'r' is subset of 'b' ?\", r.issubset(q))\n",
    "print(\"set 'r' is subset of 'x' ?\", r.issubset(x))"
   ]
  },
  {
   "cell_type": "markdown",
   "id": "11bd0310",
   "metadata": {},
   "source": [
    "# FROZEN SETS\n",
    "\n",
    "-> Frozen sets has the characteristics of sets , but we can't be change it once it's assigned. While tuple are immutable lists , frozen set are immutable sets.\n",
    "\n",
    "-> Frozen sets can be created using the function *frozenset()*.\n",
    "\n",
    "-> Sets being mutable are unhashable, so they can't be used as dictionary keys. On other hand, frozensets are hashable and can be used as keys to a ditionary.\n",
    "\n",
    "-> This datatype supports methods like copy(), difference(), intersection(), isdisjoint(), issubset(), issuperset() , symmetric_difference() and union(). Being immutable it does not have method that add or remove elements."
   ]
  },
  {
   "cell_type": "code",
   "execution_count": 52,
   "id": "824f9e92",
   "metadata": {},
   "outputs": [
    {
     "ename": "AttributeError",
     "evalue": "'frozenset' object has no attribute 'add'",
     "output_type": "error",
     "traceback": [
      "\u001b[1;31m---------------------------------------------------------------------------\u001b[0m",
      "\u001b[1;31mAttributeError\u001b[0m                            Traceback (most recent call last)",
      "\u001b[1;32m~\\AppData\\Local\\Temp/ipykernel_24624/1032194300.py\u001b[0m in \u001b[0;36m<module>\u001b[1;34m\u001b[0m\n\u001b[0;32m      1\u001b[0m \u001b[0mset1\u001b[0m \u001b[1;33m=\u001b[0m \u001b[0mfrozenset\u001b[0m\u001b[1;33m(\u001b[0m\u001b[1;33m[\u001b[0m\u001b[1;34m'MALAY THAKUR'\u001b[0m\u001b[1;33m,\u001b[0m \u001b[1;34m'201B149'\u001b[0m \u001b[1;33m,\u001b[0m \u001b[1;34m'CSE'\u001b[0m\u001b[1;33m]\u001b[0m\u001b[1;33m)\u001b[0m\u001b[1;33m\u001b[0m\u001b[1;33m\u001b[0m\u001b[0m\n\u001b[1;32m----> 2\u001b[1;33m \u001b[0mset1\u001b[0m\u001b[1;33m.\u001b[0m\u001b[0madd\u001b[0m\u001b[1;33m(\u001b[0m\u001b[1;34m'topper of class'\u001b[0m\u001b[1;33m)\u001b[0m\u001b[1;33m\u001b[0m\u001b[1;33m\u001b[0m\u001b[0m\n\u001b[0m",
      "\u001b[1;31mAttributeError\u001b[0m: 'frozenset' object has no attribute 'add'"
     ]
    }
   ],
   "source": [
    "set1 = frozenset(['MALAY THAKUR', '201B149' , 'CSE'])\n",
    "set1.add('class topper')"
   ]
  },
  {
   "cell_type": "code",
   "execution_count": 53,
   "id": "2973ff7f",
   "metadata": {},
   "outputs": [
    {
     "ename": "TypeError",
     "evalue": "'frozenset' object is not subscriptable",
     "output_type": "error",
     "traceback": [
      "\u001b[1;31m---------------------------------------------------------------------------\u001b[0m",
      "\u001b[1;31mTypeError\u001b[0m                                 Traceback (most recent call last)",
      "\u001b[1;32m~\\AppData\\Local\\Temp/ipykernel_24624/2273221750.py\u001b[0m in \u001b[0;36m<module>\u001b[1;34m\u001b[0m\n\u001b[0;32m      1\u001b[0m \u001b[1;31m#frozen set does not support indexing.\u001b[0m\u001b[1;33m\u001b[0m\u001b[1;33m\u001b[0m\u001b[0m\n\u001b[0;32m      2\u001b[0m \u001b[0mstudent1\u001b[0m \u001b[1;33m=\u001b[0m \u001b[0mfrozenset\u001b[0m\u001b[1;33m(\u001b[0m\u001b[1;33m[\u001b[0m\u001b[1;34m'MALAY THAKUR'\u001b[0m\u001b[1;33m,\u001b[0m \u001b[1;34m'201B149'\u001b[0m \u001b[1;33m,\u001b[0m \u001b[1;34m'CSE'\u001b[0m\u001b[1;33m]\u001b[0m\u001b[1;33m)\u001b[0m\u001b[1;33m\u001b[0m\u001b[1;33m\u001b[0m\u001b[0m\n\u001b[1;32m----> 3\u001b[1;33m \u001b[0mprint\u001b[0m\u001b[1;33m(\u001b[0m\u001b[0mstudent1\u001b[0m\u001b[1;33m[\u001b[0m\u001b[1;36m0\u001b[0m\u001b[1;33m]\u001b[0m\u001b[1;33m)\u001b[0m\u001b[1;33m\u001b[0m\u001b[1;33m\u001b[0m\u001b[0m\n\u001b[0m",
      "\u001b[1;31mTypeError\u001b[0m: 'frozenset' object is not subscriptable"
     ]
    }
   ],
   "source": [
    "#frozen set does not support indexing.\n",
    "student1 = frozenset(['MALAY THAKUR', '201B149' , 'CSE'])\n",
    "print(student1[0])"
   ]
  },
  {
   "cell_type": "code",
   "execution_count": 55,
   "id": "0485a28e",
   "metadata": {},
   "outputs": [
    {
     "name": "stdout",
     "output_type": "stream",
     "text": [
      "frozenset({'i', 'u', 'e', 'a', 'o'})\n",
      "frozenset({'o', 'u', 'i'})\n",
      "frozenset({'e', 'a'})\n",
      "set2 is subset of set1 ?  True\n"
     ]
    }
   ],
   "source": [
    "set1 = frozenset(['a','e','i','o','u'])\n",
    "set2 = frozenset(['i','o','u'])\n",
    "\n",
    "print(set1|set2)\n",
    "print(set1&set2)\n",
    "print(set1^set2)\n",
    "print(\"set2 is subset of set1 ? \", set2.issubset(set1))"
   ]
  },
  {
   "cell_type": "code",
   "execution_count": null,
   "id": "2aebaaa7",
   "metadata": {},
   "outputs": [],
   "source": []
  }
 ],
 "metadata": {
  "kernelspec": {
   "display_name": "Python 3 (ipykernel)",
   "language": "python",
   "name": "python3"
  },
  "language_info": {
   "codemirror_mode": {
    "name": "ipython",
    "version": 3
   },
   "file_extension": ".py",
   "mimetype": "text/x-python",
   "name": "python",
   "nbconvert_exporter": "python",
   "pygments_lexer": "ipython3",
   "version": "3.9.7"
  }
 },
 "nbformat": 4,
 "nbformat_minor": 5
}
