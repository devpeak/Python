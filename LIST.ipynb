{
 "cells": [
  {
   "cell_type": "markdown",
   "id": "1e07320b",
   "metadata": {},
   "source": [
    "# LISTS\n",
    "\n",
    "DATA STRUCTURE: It is a way to store and organize data so that it can be used efficiently.\n",
    "\n",
    "-> List is the one of the Sequence data structure.\n",
    "-> List are collection of items(Strings, integers or even other lists)\n",
    "-> List are enclosed in [] (square bracket).\n",
    "-> Each item in the list has an assigned index value.\n",
    "-> Each item in the list is seperated by a comma.\n",
    "-> Lists are mutable which means they can be changed.\n",
    "-> Indexing starts from 0.\n"
   ]
  },
  {
   "cell_type": "markdown",
   "id": "6aa7c63a",
   "metadata": {},
   "source": [
    "### LIST CREATION"
   ]
  },
  {
   "cell_type": "code",
   "execution_count": 8,
   "id": "a49591b2",
   "metadata": {},
   "outputs": [
    {
     "name": "stdout",
     "output_type": "stream",
     "text": [
      "[1, 'ramu', 24, 1.24]\n",
      "1.24\n"
     ]
    }
   ],
   "source": [
    "emptyList = []\n",
    "\n",
    "lst = ['one', 'two', 'three', 'four'] #list of strings\n",
    "\n",
    "lst2 = [1, 2, 3, 4] #list of integers\n",
    "\n",
    "lst3 = [[1, 2], [3, 4]] #list of lists\n",
    "\n",
    "lst4 = [1, 'ramu', 24, 1.24] #list of different datatypes\n",
    "\n",
    "print(lst4)\n",
    "print(lst4[3])"
   ]
  },
  {
   "cell_type": "markdown",
   "id": "069bc582",
   "metadata": {},
   "source": [
    "### LIST LENGTH"
   ]
  },
  {
   "cell_type": "code",
   "execution_count": 3,
   "id": "5078b623",
   "metadata": {},
   "outputs": [
    {
     "name": "stdout",
     "output_type": "stream",
     "text": [
      "4\n"
     ]
    }
   ],
   "source": [
    "lst = ['one', 'two', 'three', 'four']\n",
    "\n",
    "#find length of a list\n",
    "print(len(lst))   #Q. len is keyword or function ? ANS : function "
   ]
  },
  {
   "cell_type": "markdown",
   "id": "0962b0fe",
   "metadata": {},
   "source": [
    "### LIST APPEND"
   ]
  },
  {
   "cell_type": "code",
   "execution_count": 4,
   "id": "3f549620",
   "metadata": {
    "scrolled": true
   },
   "outputs": [
    {
     "name": "stdout",
     "output_type": "stream",
     "text": [
      "['one', 'two', 'three', 'four', 'five']\n"
     ]
    }
   ],
   "source": [
    "lst = ['one', 'two', 'three', 'four']\n",
    "\n",
    "lst.append('five')\n",
    "\n",
    "print(lst)\n"
   ]
  },
  {
   "cell_type": "markdown",
   "id": "0e94f753",
   "metadata": {},
   "source": [
    "\n",
    "### LIST INSERT"
   ]
  },
  {
   "cell_type": "code",
   "execution_count": 5,
   "id": "294cb00c",
   "metadata": {},
   "outputs": [
    {
     "name": "stdout",
     "output_type": "stream",
     "text": [
      "['one', 'two', 'three', 'four']\n"
     ]
    }
   ],
   "source": [
    "#Syntax: lst.insert(x,y)\n",
    "\n",
    "lst = ['one', 'two', 'four']\n",
    "\n",
    "lst.insert(2,\"three\") #will add element y(three) at location x(2)\n",
    "\n",
    "print(lst)"
   ]
  },
  {
   "cell_type": "markdown",
   "id": "e06ae51c",
   "metadata": {},
   "source": [
    "### LIST REMOVE"
   ]
  },
  {
   "cell_type": "code",
   "execution_count": 8,
   "id": "4dd68099",
   "metadata": {},
   "outputs": [
    {
     "name": "stdout",
     "output_type": "stream",
     "text": [
      "['one', 'three', 'four', 'two']\n",
      "3\n"
     ]
    }
   ],
   "source": [
    "#Syntax: lst.remove(x)\n",
    "\n",
    "lst = ['one' , 'two', 'three', 'four', 'two']\n",
    "\n",
    "lst.remove('two') #It will remove the first occurance of 'two' in a given list\n",
    "\n",
    "print(lst)\n",
    "\n",
    "print(lst.index('two'))"
   ]
  },
  {
   "cell_type": "markdown",
   "id": "0df9cb54",
   "metadata": {},
   "source": [
    "### LIST APPEND AND EXTEND"
   ]
  },
  {
   "cell_type": "code",
   "execution_count": 19,
   "id": "2cc845ea",
   "metadata": {},
   "outputs": [
    {
     "ename": "ValueError",
     "evalue": "'Mango' is not in list",
     "output_type": "error",
     "traceback": [
      "\u001b[1;31m---------------------------------------------------------------------------\u001b[0m",
      "\u001b[1;31mValueError\u001b[0m                                Traceback (most recent call last)",
      "\u001b[1;32m~\\AppData\\Local\\Temp/ipykernel_21700/2614400456.py\u001b[0m in \u001b[0;36m<module>\u001b[1;34m\u001b[0m\n\u001b[0;32m      6\u001b[0m \u001b[0mlst\u001b[0m\u001b[1;33m.\u001b[0m\u001b[0mappend\u001b[0m\u001b[1;33m(\u001b[0m\u001b[0mlst2\u001b[0m\u001b[1;33m)\u001b[0m \u001b[1;31m#adds lst2 in lst ; list within list\u001b[0m\u001b[1;33m\u001b[0m\u001b[1;33m\u001b[0m\u001b[0m\n\u001b[0;32m      7\u001b[0m \u001b[1;33m\u001b[0m\u001b[0m\n\u001b[1;32m----> 8\u001b[1;33m \u001b[0mprint\u001b[0m\u001b[1;33m(\u001b[0m\u001b[0mlst\u001b[0m\u001b[1;33m.\u001b[0m\u001b[0mindex\u001b[0m\u001b[1;33m(\u001b[0m\u001b[1;34m\"Mango\"\u001b[0m\u001b[1;33m)\u001b[0m\u001b[1;33m)\u001b[0m\u001b[1;33m\u001b[0m\u001b[1;33m\u001b[0m\u001b[0m\n\u001b[0m",
      "\u001b[1;31mValueError\u001b[0m: 'Mango' is not in list"
     ]
    }
   ],
   "source": [
    "lst = ['apple', 'banana', 'guava', 'grapes']\n",
    "\n",
    "lst2 = ['Mango', 'pineapple']\n",
    "\n",
    "#append\n",
    "lst.append(lst2) #adds lst2 in lst ; list within list \n",
    "\n",
    "print(lst.index(\"Mango\"))"
   ]
  },
  {
   "cell_type": "code",
   "execution_count": 17,
   "id": "3fd1ca29",
   "metadata": {},
   "outputs": [
    {
     "name": "stdout",
     "output_type": "stream",
     "text": [
      "['Iron Man', 'Hulk', 'Black Widow', 'Hawkeye', 'Captain America', 'Thor']\n"
     ]
    }
   ],
   "source": [
    "lst = ['Iron Man', 'Hulk', 'Black Widow']\n",
    "\n",
    "lst2 = ['Hawkeye', 'Captain America' , 'Thor']\n",
    "\n",
    "#extend will join the lst2 with lst\n",
    "\n",
    "lst.extend(lst2 )\n",
    "\n",
    "print(lst)"
   ]
  },
  {
   "cell_type": "markdown",
   "id": "41a5a85a",
   "metadata": {},
   "source": [
    "### LIST DELETE"
   ]
  },
  {
   "cell_type": "code",
   "execution_count": 31,
   "id": "7870b025",
   "metadata": {
    "scrolled": true
   },
   "outputs": [
    {
     "name": "stdout",
     "output_type": "stream",
     "text": [
      "Befor delete :  ['dbms', 'os', 'algo', 'cn', 'dsa', 'cp']\n",
      "\n",
      "After Delete :  ['dbms', 'os', 'algo', 'cn', 'dsa']\n",
      "\n",
      "lenovo\n",
      "\n",
      "Returns an item at index at 2 using pop \n",
      "['hp', 'dell', 'apple']\n"
     ]
    }
   ],
   "source": [
    "#del to remove item based on index position -> del removes the item from the list\n",
    "\n",
    "lst = ['dbms', 'os', 'algo', 'cn', 'dsa' , 'cp']\n",
    "\n",
    "print(\"Befor delete : \" ,lst)\n",
    "\n",
    "print()\n",
    "\n",
    "del lst[5]\n",
    "\n",
    "print(\"After Delete : \", lst)\n",
    "\n",
    "print()\n",
    "#or we can use pop() method -> pop returns the item from the list\n",
    "\n",
    "lst2 = ['hp', 'dell', 'lenovo', 'apple']\n",
    "a = lst2.pop(2)\n",
    "\n",
    "print(a)\n",
    "print()\n",
    "print(lst2)"
   ]
  },
  {
   "cell_type": "code",
   "execution_count": 32,
   "id": "564c76e6",
   "metadata": {},
   "outputs": [
    {
     "name": "stdout",
     "output_type": "stream",
     "text": [
      "['pranjal', 'shrey', 'prince']\n"
     ]
    }
   ],
   "source": [
    "#remove an element using element name not index\n",
    "\n",
    "lst = ['pranjal', 'malay', 'shrey', 'prince']\n",
    "lst.remove('malay')\n",
    "\n",
    "print(lst)"
   ]
  },
  {
   "cell_type": "markdown",
   "id": "f80e0121",
   "metadata": {},
   "source": [
    "## LIST RELATED KEYWORDS IN PYTHON"
   ]
  },
  {
   "cell_type": "code",
   "execution_count": 35,
   "id": "55830b40",
   "metadata": {},
   "outputs": [
    {
     "name": "stdout",
     "output_type": "stream",
     "text": [
      "GREAT\n",
      "Innovative\n"
     ]
    }
   ],
   "source": [
    "#keyword 'in' is used to test if an element is in a list\n",
    "\n",
    "lst = ['aws', 'ai' , 'ml' , 'data science']\n",
    "\n",
    "if 'aws' in lst:\n",
    "    print('GREAT')\n",
    "\n",
    "#keyword 'not' can combined with 'in'\n",
    "\n",
    "if \"cp\" not in lst:\n",
    "    print('Innovative')\n",
    "    "
   ]
  },
  {
   "cell_type": "markdown",
   "id": "4d7c0cf2",
   "metadata": {},
   "source": [
    "\n",
    "## LIST REVERSE"
   ]
  },
  {
   "cell_type": "code",
   "execution_count": 36,
   "id": "9133a623",
   "metadata": {},
   "outputs": [
    {
     "name": "stdout",
     "output_type": "stream",
     "text": [
      "[4, 3, 2, 1]\n"
     ]
    }
   ],
   "source": [
    "#reverse is reverses the entire list\n",
    "\n",
    "lst = [1,2,3,4]\n",
    "\n",
    "lst.reverse() \n",
    "\n",
    "print(lst)"
   ]
  },
  {
   "cell_type": "markdown",
   "id": "12182475",
   "metadata": {},
   "source": [
    "## LIST SORTING"
   ]
  },
  {
   "cell_type": "code",
   "execution_count": 37,
   "id": "de86a7d5",
   "metadata": {},
   "outputs": [
    {
     "name": "stdout",
     "output_type": "stream",
     "text": [
      "Sorted list :  ['a', 'e', 'i', 'o', 'u']\n",
      "Original list:  ['u', 'o', 'i', 'e', 'a']\n"
     ]
    }
   ],
   "source": [
    "#Create a list with numbers\n",
    "\n",
    "alphabet = ['u','o','i','e','a']\n",
    "\n",
    "sorted_lst = sorted(alphabet)\n",
    "\n",
    "print(\"Sorted list : \",sorted_lst)\n",
    "\n",
    "#original list remain unchanged\n",
    "\n",
    "print(\"Original list: \",alphabet)"
   ]
  },
  {
   "cell_type": "code",
   "execution_count": 38,
   "id": "dca59744",
   "metadata": {},
   "outputs": [
    {
     "name": "stdout",
     "output_type": "stream",
     "text": [
      "Reverse sorted list :  ['u', 'o', 'i', 'e', 'a']\n",
      "Original list :  ['a', 'e', 'i', 'o', 'u']\n"
     ]
    }
   ],
   "source": [
    "#print a list in reverse sorted order\n",
    "\n",
    "print(\"Reverse sorted list : \",sorted(sorted_lst,reverse=True))\n",
    "\n",
    "#original list remain unchanged\n",
    "\n",
    "print(\"Original list : \",sorted_lst)"
   ]
  },
  {
   "cell_type": "code",
   "execution_count": 39,
   "id": "5c01ffe8",
   "metadata": {},
   "outputs": [
    {
     "name": "stdout",
     "output_type": "stream",
     "text": [
      "Sorted list is :  [1, 4.21, 5, 5, 20]\n"
     ]
    }
   ],
   "source": [
    "lst = [1, 20, 5, 5, 4.21]\n",
    "\n",
    "#sort the list and stored in itself\n",
    "\n",
    "lst.sort()\n",
    "\n",
    "\n",
    "print(\"Sorted list is : \",lst)"
   ]
  },
  {
   "cell_type": "code",
   "execution_count": 40,
   "id": "212aee66",
   "metadata": {},
   "outputs": [
    {
     "ename": "TypeError",
     "evalue": "'<' not supported between instances of 'int' and 'str'",
     "output_type": "error",
     "traceback": [
      "\u001b[1;31m---------------------------------------------------------------------------\u001b[0m",
      "\u001b[1;31mTypeError\u001b[0m                                 Traceback (most recent call last)",
      "\u001b[1;32m~\\AppData\\Local\\Temp/ipykernel_21700/938276294.py\u001b[0m in \u001b[0;36m<module>\u001b[1;34m\u001b[0m\n\u001b[0;32m      3\u001b[0m \u001b[0mlst1\u001b[0m \u001b[1;33m=\u001b[0m \u001b[1;33m[\u001b[0m\u001b[1;34m'b'\u001b[0m\u001b[1;33m,\u001b[0m \u001b[1;34m'c'\u001b[0m\u001b[1;33m,\u001b[0m \u001b[1;36m13\u001b[0m \u001b[1;33m,\u001b[0m \u001b[1;36m3\u001b[0m \u001b[1;33m,\u001b[0m \u001b[1;36m69\u001b[0m\u001b[1;33m]\u001b[0m\u001b[1;33m\u001b[0m\u001b[1;33m\u001b[0m\u001b[0m\n\u001b[0;32m      4\u001b[0m \u001b[1;33m\u001b[0m\u001b[0m\n\u001b[1;32m----> 5\u001b[1;33m \u001b[0mprint\u001b[0m\u001b[1;33m(\u001b[0m\u001b[0mlst1\u001b[0m\u001b[1;33m.\u001b[0m\u001b[0msort\u001b[0m\u001b[1;33m(\u001b[0m\u001b[1;33m)\u001b[0m\u001b[1;33m)\u001b[0m\u001b[1;33m\u001b[0m\u001b[1;33m\u001b[0m\u001b[0m\n\u001b[0m",
      "\u001b[1;31mTypeError\u001b[0m: '<' not supported between instances of 'int' and 'str'"
     ]
    }
   ],
   "source": [
    " \n",
    "#add element 'a' to the list to show an error\n",
    "\n",
    "lst1 = ['b', 'c', 13 , 3 , 69]\n",
    "\n",
    "print(lst1.sort())"
   ]
  },
  {
   "cell_type": "markdown",
   "id": "eb1d774c",
   "metadata": {},
   "source": [
    "## LIST HAVING MULTIPLE REFERENCES"
   ]
  },
  {
   "cell_type": "code",
   "execution_count": 1,
   "id": "b3c78cbd",
   "metadata": {},
   "outputs": [
    {
     "name": "stdout",
     "output_type": "stream",
     "text": [
      "Original list :  [1, 2, 3, 4, 5, 6]\n"
     ]
    }
   ],
   "source": [
    "lst = [1,2,3,4,5]\n",
    "\n",
    "abc = lst\n",
    "\n",
    "abc.append(6)\n",
    "\n",
    "print(\"Original list : \",lst)\n",
    " \n",
    "#abc is pointing to the address of lst. here 'abc' and 'lst' are references and any change in 'abc' reflects to 'lst'"
   ]
  },
  {
   "cell_type": "markdown",
   "id": "6a5b8678",
   "metadata": {},
   "source": [
    "## STRING SPLIT TO CREATE A LIST"
   ]
  },
  {
   "cell_type": "code",
   "execution_count": 4,
   "id": "d286bf01",
   "metadata": {},
   "outputs": [
    {
     "name": "stdout",
     "output_type": "stream",
     "text": [
      "['I', 'am', 'Malay', 'Thakur']\n"
     ]
    }
   ],
   "source": [
    "#let's take a string\n",
    "\n",
    "s = \"I.am.Malay.Thakur\"\n",
    "s_lst = s.split('.')\n",
    "print(s_lst)\n"
   ]
  },
  {
   "cell_type": "code",
   "execution_count": 6,
   "id": "008d49d9",
   "metadata": {},
   "outputs": [
    {
     "name": "stdout",
     "output_type": "stream",
     "text": [
      "['I', 'am', 'studying', 'pyhton']\n"
     ]
    }
   ],
   "source": [
    "s = \"I am studying pyhton\"\n",
    "split_lst = s.split(\" \") #split_lst = s.split(\" \") default split is white character: space or tab\n",
    "print(split_lst)"
   ]
  },
  {
   "cell_type": "markdown",
   "id": "3fbb2254",
   "metadata": {},
   "source": [
    "## LIST INDEXING\n",
    "\n",
    "-> Each item in the list has an assigned index value starting from 0.\n",
    "\n",
    "-> Accessing elements in a list is called indexing.\n"
   ]
  },
  {
   "cell_type": "code",
   "execution_count": 7,
   "id": "94f12094",
   "metadata": {},
   "outputs": [
    {
     "name": "stdout",
     "output_type": "stream",
     "text": [
      "1\n",
      "2\n",
      "5\n",
      "4\n"
     ]
    }
   ],
   "source": [
    "lst = [1,2,3,4,5]\n",
    "print(lst[0])\n",
    "print(lst[1]) #print second element\n",
    "\n",
    "print(lst[-1]) #prints the last element of a list \n",
    "print(lst[-2]) #prints the second last element of a list"
   ]
  },
  {
   "cell_type": "markdown",
   "id": "8abe97f4",
   "metadata": {},
   "source": [
    "## LIST SLICING\n",
    "\n",
    "-> Accessing parts of segments is called slicing.\n",
    "-> The key points to remember is that the : end value represents the first value that is not in the selected slice "
   ]
  },
  {
   "cell_type": "code",
   "execution_count": 9,
   "id": "e8bc13e3",
   "metadata": {},
   "outputs": [
    {
     "name": "stdout",
     "output_type": "stream",
     "text": [
      "[10, 20, 30, 40, 50, 60, 70, 80]\n",
      "[10, 20, 30, 40]\n"
     ]
    }
   ],
   "source": [
    "numbers = [10,20,30,40,50,60,70,80]\n",
    "\n",
    "#print all the numbers\n",
    "print(numbers[:])\n",
    "\n",
    "#print from index 0 to index 3 (prints upto index 4)\n",
    "print(numbers[0:4])"
   ]
  },
  {
   "cell_type": "code",
   "execution_count": 30,
   "id": "c3f5851a",
   "metadata": {},
   "outputs": [
    {
     "name": "stdout",
     "output_type": "stream",
     "text": [
      "[10, 20, 30, 40, 50, 60, 70, 80]\n",
      "[10, 40, 70]\n",
      "[70, 80]\n",
      "[30, 40, 50, 60]\n",
      "[70, 80]\n",
      "[30, 50, 70]\n",
      "[20, 40, 60, 80]\n"
     ]
    }
   ],
   "source": [
    "print(numbers)\n",
    "#print alternate elements in a list\n",
    "#numbers[starting index:end index:stepsize]\n",
    "print(numbers[::3]) #count the stepsize from the starting index , [::] indicate the beggining to end of list\n",
    "print(numbers[-2:])\n",
    "print(numbers[2:-2])\n",
    "print(numbers[-2:])\n",
    "print(numbers[2::2])\n",
    "print(numbers[1::2])"
   ]
  },
  {
   "cell_type": "markdown",
   "id": "5ea00423",
   "metadata": {},
   "source": [
    "## LIST EXTEND USING '+' "
   ]
  },
  {
   "cell_type": "code",
   "execution_count": 31,
   "id": "b1b3fa3f",
   "metadata": {},
   "outputs": [
    {
     "name": "stdout",
     "output_type": "stream",
     "text": [
      "[2, 4, 6, 8, 10, 'two', 'four', 'six', 'eight', 'ten']\n"
     ]
    }
   ],
   "source": [
    "lst1 = [2,4,6,8,10]\n",
    "lst2 = ['two','four','six','eight','ten']\n",
    "new_lst = lst1 + lst2\n",
    "\n",
    "print(new_lst)\n"
   ]
  },
  {
   "cell_type": "markdown",
   "id": "f121d0bf",
   "metadata": {},
   "source": [
    "## LIST COUNT"
   ]
  },
  {
   "cell_type": "markdown",
   "id": "8b22f30a",
   "metadata": {},
   "source": []
  },
  {
   "cell_type": "code",
   "execution_count": 32,
   "id": "8d530c48",
   "metadata": {},
   "outputs": [
    {
     "name": "stdout",
     "output_type": "stream",
     "text": [
      "0\n",
      "5\n"
     ]
    }
   ],
   "source": [
    "numbers = [2,2,3,2,3,5,3,2,5,7,3,2,7,3,7]\n",
    "\n",
    "#frequency of 2 in numbers\n",
    "print(numbers.count(1))\n",
    "\n",
    "#frequency of 3 in a list\n",
    "print(numbers.count(3))"
   ]
  },
  {
   "cell_type": "markdown",
   "id": "1f8cf5ff",
   "metadata": {},
   "source": [
    "## LIST LOOPING "
   ]
  },
  {
   "cell_type": "code",
   "execution_count": 35,
   "id": "16970995",
   "metadata": {},
   "outputs": [
    {
     "name": "stdout",
     "output_type": "stream",
     "text": [
      "apple\n",
      "bannana\n",
      "cat\n",
      "dog\n"
     ]
    }
   ],
   "source": [
    "#loop through a list\n",
    "\n",
    "lst = ['apple', 'bannana', 'cat', 'dog']\n",
    "for i in lst:\n",
    "    print(i)"
   ]
  },
  {
   "cell_type": "markdown",
   "id": "863a41e6",
   "metadata": {},
   "source": [
    "## LIST COMPREHENSION\n",
    "\n",
    "-> List comprehension provides a concise way to create lists.\n",
    "\n",
    "Common application are to make new lists where each element is the result of some operations applied to each member of another sequence or iterable, or to create a subsequence of those elements that satisfy a certain condition."
   ]
  },
  {
   "cell_type": "code",
   "execution_count": 36,
   "id": "c5c8ebb1",
   "metadata": {},
   "outputs": [
    {
     "name": "stdout",
     "output_type": "stream",
     "text": [
      "[0, 1, 4, 9, 16, 25, 36, 49, 64, 81, 100]\n"
     ]
    }
   ],
   "source": [
    "#without list comprehension\n",
    "squares = []\n",
    "\n",
    "for i in range(11): #range 10 means 0 to 10\n",
    "    squares.append(i**2)\n",
    "print(squares)"
   ]
  },
  {
   "cell_type": "code",
   "execution_count": 39,
   "id": "e1867a34",
   "metadata": {},
   "outputs": [
    {
     "name": "stdout",
     "output_type": "stream",
     "text": [
      "[0, 1, 4, 9, 16, 25, 36, 49, 64, 81, 100]\n"
     ]
    }
   ],
   "source": [
    "#using list comprehension\n",
    "squares = [i**2 for i in range(0,11)]\n",
    "print(squares)"
   ]
  },
  {
   "cell_type": "code",
   "execution_count": 57,
   "id": "ccaafef2",
   "metadata": {},
   "outputs": [
    {
     "name": "stdout",
     "output_type": "stream",
     "text": [
      "[-20, 40, 20, 40, 60]\n",
      "[20, 10, 20, 30]\n",
      "[(0, 0), (1, 1), (2, 4), (3, 9), (4, 16), (5, 25), (6, 36), (7, 49), (8, 64), (9, 81), (10, 100)]\n"
     ]
    }
   ],
   "source": [
    "#example\n",
    "\n",
    "lst = [-10,20,10,20,30]\n",
    "\n",
    "#create a new list with values doubled \n",
    "new_lst = [i*2 for i in lst]\n",
    "print(new_lst)\n",
    "\n",
    "#filter the list to exclude negative numbers\n",
    "pos_num = [i for i in lst if i>=0]\n",
    "print(pos_num)\n",
    "\n",
    "#create a list of tuples like (number , square of a number)\n",
    "new_lst2 = [(i,i**2) for i in range(11)]\n",
    "print(new_lst2)"
   ]
  },
  {
   "cell_type": "markdown",
   "id": "404f3875",
   "metadata": {},
   "source": [
    "## NESTED LIST COMPREHENSIONS"
   ]
  },
  {
   "cell_type": "code",
   "execution_count": 5,
   "id": "ffc20db1",
   "metadata": {},
   "outputs": [
    {
     "name": "stdout",
     "output_type": "stream",
     "text": [
      "[2, 4, 6, 8]\n",
      "[3, 6, 9, 12]\n",
      "[4, 8, 12, 16]\n",
      "[[2, 3, 4], [4, 6, 8], [6, 9, 12], [8, 12, 16]]\n"
     ]
    }
   ],
   "source": [
    "#let's suppose we have a matrix\n",
    "\n",
    "matrix = [\n",
    "    [2, 4, 6, 8],\n",
    "    [3, 6, 9, 12],\n",
    "    [4, 8, 12, 16]\n",
    "]\n",
    "print(matrix[0])\n",
    "print(matrix[1])\n",
    "print(matrix[2])\n",
    "\n",
    "#transpose of matrix withour list comprehension\n",
    "'''\n",
    " M(t) = [2, 3, 4]\n",
    "        [4, 6, 8]\n",
    "        [6, 9, 12]\n",
    "        [8, 12, 16]\n",
    " \n",
    "'''\n",
    "transposed = []\n",
    "for i in range(4): #going to each column\n",
    "    lst = []\n",
    "    for row in matrix:\n",
    "        lst.append(row[i])\n",
    "    transposed.append(lst)\n",
    "'''\n",
    "print(transposed[0])\n",
    "print(transposed[1])\n",
    "print(transposed[2])\n",
    "print(transposed[3]) \n",
    "'''\n",
    "print(transposed)"
   ]
  },
  {
   "cell_type": "code",
   "execution_count": 7,
   "id": "3821dcbc",
   "metadata": {},
   "outputs": [
    {
     "name": "stdout",
     "output_type": "stream",
     "text": [
      "[[2, 3, 4], [4, 6, 8], [6, 9, 12], [8, 12, 16]]\n"
     ]
    }
   ],
   "source": [
    "transposed = [[row[i] for row in matrix] for i in range(4)] #decreases readability but concise\n",
    "print(transposed)"
   ]
  },
  {
   "cell_type": "code",
   "execution_count": null,
   "id": "df85cfc3",
   "metadata": {},
   "outputs": [],
   "source": []
  }
 ],
 "metadata": {
  "kernelspec": {
   "display_name": "Python 3 (ipykernel)",
   "language": "python",
   "name": "python3"
  },
  "language_info": {
   "codemirror_mode": {
    "name": "ipython",
    "version": 3
   },
   "file_extension": ".py",
   "mimetype": "text/x-python",
   "name": "python",
   "nbconvert_exporter": "python",
   "pygments_lexer": "ipython3",
   "version": "3.9.7"
  }
 },
 "nbformat": 4,
 "nbformat_minor": 5
}
